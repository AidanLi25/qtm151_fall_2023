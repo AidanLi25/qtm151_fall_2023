{
 "cells": [
  {
   "attachments": {},
   "cell_type": "markdown",
   "metadata": {},
   "source": [
    "# Assignment 7"
   ]
  },
  {
   "attachments": {},
   "cell_type": "markdown",
   "metadata": {},
   "source": [
    "## Try to submit as an HTML file"
   ]
  },
  {
   "attachments": {},
   "cell_type": "markdown",
   "metadata": {},
   "source": [
    "<font size = \"5\">\n",
    "Print your name below"
   ]
  },
  {
   "cell_type": "code",
   "execution_count": 88,
   "metadata": {},
   "outputs": [
    {
     "name": "stdout",
     "output_type": "stream",
     "text": [
      "2635174\n"
     ]
    }
   ],
   "source": [
    "# Write your answer here:\n",
    "print(2635174)"
   ]
  },
  {
   "attachments": {},
   "cell_type": "markdown",
   "metadata": {},
   "source": [
    "<font size = \"5\">\n",
    "\n",
    "Import the \"pandas\" and \"numpy\" library"
   ]
  },
  {
   "cell_type": "code",
   "execution_count": 5,
   "metadata": {},
   "outputs": [],
   "source": [
    "# Write your answer here:\n",
    "import pandas as pd\n",
    "import numpy as np"
   ]
  },
  {
   "attachments": {},
   "cell_type": "markdown",
   "metadata": {},
   "source": [
    "<font size = \"5\">\n",
    "\n",
    "(a) Replace values from intervals\n",
    "\n",
    "<font size = \"3\">\n",
    "\n",
    "- Import the dataset \"data_raw/students.csv\" to a new object \"students\"\n",
    "- Use \"pd.cut()\" to assign the column \"numericgrade\" to a letter grade <br>\n",
    "using the following table\n",
    "\n",
    "<img src=\"figures/grading_scale.png\" alt=\"drawing\" width=\"600\"/>\n",
    "\n",
    "HINT: See Lecture 12"
   ]
  },
  {
   "cell_type": "code",
   "execution_count": 50,
   "metadata": {},
   "outputs": [
    {
     "name": "stdout",
     "output_type": "stream",
     "text": [
      "    studentid  numericgrade lettergrade\n",
      "0           1            61          C-\n",
      "1           2             0           F\n",
      "2           3            14           F\n",
      "3           4            57           D\n",
      "4           5            72          C+\n",
      "5           6            93           A\n",
      "6           7            40           F\n",
      "7           8            11           F\n",
      "8           9             3           F\n",
      "9          10            63          C-\n",
      "10         11             7           F\n",
      "11         12            46           F\n",
      "12         13            75          B-\n",
      "13         14            95           A\n",
      "14         15            22           F\n",
      "15         16            40           F\n",
      "16         17            53           F\n",
      "17         18            57           D\n",
      "18         19            82           B\n",
      "19         20            50           F\n",
      "20         21             8           F\n",
      "21         22            87          A-\n",
      "22         23            82           B\n",
      "23         24            30           F\n",
      "24         25            62          C-\n"
     ]
    }
   ],
   "source": [
    "# Write your answer here:\n",
    "students = pd.read_csv(\"data_raw/students.csv\")\n",
    "bins = [-1, 54, 59, 64, 69, 74, 79, 82, 86, 92, 100]\n",
    "labels = [\"F\", \"D\", \"C-\", \"C\", \"C+\", \"B-\", \"B\", \"B+\", \"A-\", \"A\"]\n",
    "students[\"lettergrade\"] = pd.cut(students[\"numericgrade\"], bins = bins, labels = labels)\n",
    "print(students)"
   ]
  },
  {
   "attachments": {},
   "cell_type": "markdown",
   "metadata": {},
   "source": [
    "<font size = \"5\">\n",
    "\n",
    "For questions (b)-(e) use \"sprint_results.csv\", <br>\n",
    "a dataset on competitive car racing\n",
    "\n",
    "Import the dataset \"data_raw/sprint_results.csv\" to <br>\n",
    " a new object \"sprint_results\""
   ]
  },
  {
   "cell_type": "code",
   "execution_count": 93,
   "metadata": {},
   "outputs": [],
   "source": [
    "# Write your own code\n",
    "sprint_results = pd.read_csv(\"data_raw/sprint_results.csv\")"
   ]
  },
  {
   "attachments": {},
   "cell_type": "markdown",
   "metadata": {},
   "source": [
    "<font size = \"5\">\n",
    "\n",
    "(b) Check column types\n",
    "\n",
    "<font size = \"3\">\n",
    "\n",
    "- View the dataset\n",
    "- Use the function `sprint_results.dtypes` to get the column data types\n",
    "- Search for the \"sprint_results\" table in \"codebook/f1_codebook.pdf\".\n",
    "- **Print if the type of the \"position\" column agree with the codebook?** <br>\n",
    "i.e. is it an integer, float, or string/object?\n",
    "\n",
    "HINT: See Lectures 12 and 13 for how to interpret the codebook\n",
    "\n",
    "- Print the difference you observed between the codebook and the new dataframe you have created.\n",
    "\n",
    "---\n",
    "**Optional**\n",
    "- Convert this `sprint_results.dtypes` object type into DataFrame and  the datatype of `position`.\n",
    "- HINT: Use pd.DataFrame().reset_index <br>\n",
    "`reset_index` is to convert the index to a column \n",
    "---\n",
    "\n",
    "\n",
    "\n",
    "\n",
    "\n",
    "<span style = \"color:blue\"> There are other columns that has disparity with the codebook.\\\n",
    "Feel free to explore them! </span>"
   ]
  },
  {
   "cell_type": "code",
   "execution_count": 87,
   "metadata": {},
   "outputs": [
    {
     "name": "stdout",
     "output_type": "stream",
     "text": [
      "   resultId  raceId  driverId  constructorId  number  grid position  \\\n",
      "0         1    1061       830              9      33     2        1   \n",
      "1         2    1061         1            131      44     1        2   \n",
      "2         3    1061       822            131      77     3        3   \n",
      "3         4    1061       844              6      16     4        4   \n",
      "4         5    1061       846              1       4     6        5   \n",
      "\n",
      "  positionText  positionOrder  points  laps       time milliseconds  \\\n",
      "0            1              1       3    17  25:38.426      1538426   \n",
      "1            2              2       2    17     +1.430      1539856   \n",
      "2            3              3       1    17     +7.502      1545928   \n",
      "3            4              4       0    17    +11.278      1549704   \n",
      "4            5              5       0    17    +24.111      1562537   \n",
      "\n",
      "  fastestLap fastestLapTime  statusId  \n",
      "0         14       1:30.013         1  \n",
      "1         17       1:29.937         1  \n",
      "2         17       1:29.958         1  \n",
      "3         16       1:30.163         1  \n",
      "4         16       1:30.566         1  \n",
      "resultId           int64\n",
      "raceId             int64\n",
      "driverId           int64\n",
      "constructorId      int64\n",
      "number             int64\n",
      "grid               int64\n",
      "position          object\n",
      "positionText      object\n",
      "positionOrder      int64\n",
      "points             int64\n",
      "laps               int64\n",
      "time              object\n",
      "milliseconds      object\n",
      "fastestLap        object\n",
      "fastestLapTime    object\n",
      "statusId           int64\n",
      "dtype: object\n",
      "Does not agree with the codebook\n",
      "The dataframe I created is an object while the codebook contains an integer\n"
     ]
    }
   ],
   "source": [
    "# Write your own code here\n",
    "# Note: When you run \"sprint_results.dtypes\" you will get the type (int, float, object)\n",
    "# Object represents columns coded as strings.\n",
    "print(sprint_results.head())\n",
    "column_data_types = sprint_results.dtypes\n",
    "print(column_data_types)\n",
    "\n",
    "data_dataframe = sprint_results[\"position\"].dtype\n",
    "data_type_in_dataframe = sprint_results[\"position\"].dtype\n",
    "data_type_in_codebook = \"integer\"\n",
    "if data_type_in_codebook == data_type_in_dataframe:\n",
    "    print(\"Agrees with the codebook\")\n",
    "else:\n",
    "    print(\"Does not agree with the codebook\")\n",
    "\n",
    "print(\"The dataframe I created is an object while the codebook contains an integer\")"
   ]
  },
  {
   "attachments": {},
   "cell_type": "markdown",
   "metadata": {},
   "source": [
    "<font size = \"5\">\n",
    "\n",
    "(c) Clean a column\n",
    "\n",
    "<font size = \"3\">\n",
    "\n",
    "- Our goal is to replace any string values in the column \"position\" <br>\n",
    "to missing values (NaNs) and covert to numeric\n",
    "\n",
    "- To do so\n",
    "    1. Extract list of non-numeric values\n",
    "    2. Replace certain list of values\n",
    "    3. Convert column to numeric\n",
    "    4. Display\n"
   ]
  },
  {
   "cell_type": "code",
   "execution_count": 94,
   "metadata": {},
   "outputs": [
    {
     "name": "stdout",
     "output_type": "stream",
     "text": [
      "     resultId  raceId  driverId  constructorId  number  grid  position  \\\n",
      "0           1    1061       830              9      33     2       1.0   \n",
      "1           2    1061         1            131      44     1       2.0   \n",
      "2           3    1061       822            131      77     3       3.0   \n",
      "3           4    1061       844              6      16     4       4.0   \n",
      "4           5    1061       846              1       4     6       5.0   \n",
      "..        ...     ...       ...            ...     ...   ...       ...   \n",
      "115       116    1095       840            117      18    15      16.0   \n",
      "116       117    1095       839            214      31     6      17.0   \n",
      "117       118    1095         4            214      14     7      18.0   \n",
      "118       119    1095       849              3       6    16      19.0   \n",
      "119       120    1095       848              3      23    11       NaN   \n",
      "\n",
      "    positionText  positionOrder  points  laps       time milliseconds  \\\n",
      "0              1              1       3    17  25:38.426      1538426   \n",
      "1              2              2       2    17     +1.430      1539856   \n",
      "2              3              3       1    17     +7.502      1545928   \n",
      "3              4              4       0    17    +11.278      1549704   \n",
      "4              5              5       0    17    +24.111      1562537   \n",
      "..           ...            ...     ...   ...        ...          ...   \n",
      "115           16             16       0    24    +50.700      1862007   \n",
      "116           17             17       0    24    +51.756      1863063   \n",
      "117           18             18       0    24    +53.985      1865292   \n",
      "118           19             19       0    24  +1:16.850      1888157   \n",
      "119            R             20       0    12         \\N           \\N   \n",
      "\n",
      "    fastestLap fastestLapTime  statusId  \n",
      "0           14       1:30.013         1  \n",
      "1           17       1:29.937         1  \n",
      "2           17       1:29.958         1  \n",
      "3           16       1:30.163         1  \n",
      "4           16       1:30.566         1  \n",
      "..         ...            ...       ...  \n",
      "115          4       1:15.425         1  \n",
      "116          5       1:16.097         1  \n",
      "117          5       1:14.764         1  \n",
      "118          4       1:16.525         1  \n",
      "119          4       1:15.998        31  \n",
      "\n",
      "[120 rows x 16 columns]\n"
     ]
    }
   ],
   "source": [
    "# Write your own code here\n",
    "non_numericvalues = sprint_results[~sprint_results[\"position\"].str.isnumeric()][\"position\"].unique()\n",
    "sprint_results[\"position\"] = sprint_results[\"position\"].replace(non_numericvalues, np.nan)\n",
    "sprint_results[\"position\"] = pd.to_numeric(sprint_results[\"position\"], errors = \"coerce\")\n",
    "print(sprint_results)"
   ]
  },
  {
   "attachments": {},
   "cell_type": "markdown",
   "metadata": {},
   "source": [
    "<font size = \"5\">\n",
    "\n",
    "(d) Groupby + Aggregate\n",
    "\n",
    "<font size = \"3\">\n",
    "\n",
    "- Compute the mean and standard deviation of \"position\", <br>\n",
    "grouping by \"constructorId\". Store the new dataset <br>\n",
    "as \"df_aggConstrcId_pos\"\n",
    "\n",
    "- Sort the aggregate dataset in ascending <br>\n",
    "order of mean position using \".sort_values()\" <br>\n",
    "(i.e., to find the constructor with drivers having the best mean positions)\n",
    "\n",
    "- Display\n",
    "\n",
    "- Print which constructorId has the lowest mean position.\n",
    "\n",
    "HINT: See Lecture 13 <br>\n"
   ]
  },
  {
   "cell_type": "code",
   "execution_count": 95,
   "metadata": {},
   "outputs": [
    {
     "name": "stdout",
     "output_type": "stream",
     "text": [
      "                    mean       std\n",
      "constructorId                     \n",
      "9               3.363636  2.419617\n",
      "6               4.750000  2.734460\n",
      "131             4.833333  4.174236\n",
      "1               7.250000  3.137022\n",
      "214            11.636364  4.006812\n",
      "117            12.750000  3.165869\n",
      "51             13.000000  3.549648\n",
      "210            13.833333  5.236816\n",
      "213            13.909091  2.981763\n",
      "3              16.181818  2.857208\n",
      "Lowest mean position is 9\n"
     ]
    }
   ],
   "source": [
    "# Write your own code\n",
    "df_aggConstrcId_pos = sprint_results.groupby(\"constructorId\")[\"position\"].agg([\"mean\", \"std\"])\n",
    "df_aggConstrcId_pos = df_aggConstrcId_pos.sort_values(by = \"mean\")\n",
    "print(df_aggConstrcId_pos)\n",
    "lowest_mean_constructor = df_aggConstrcId_pos.index[0]\n",
    "print(\"Lowest mean position is\" + \" \" + str(lowest_mean_constructor))"
   ]
  },
  {
   "attachments": {},
   "cell_type": "markdown",
   "metadata": {},
   "source": [
    "<font size = \"5\" >\n",
    "\n",
    "(d) Query + Groupby + Aggregate\n",
    "\n",
    "<font size = \"3\">\n",
    "\n",
    "- Use \".query()\" to subset observations with <br>\n",
    "'race_id >= 100'\n",
    "\n",
    "- Compute the mean and standard deviation of \"position\", <br>\n",
    "grouping by \"constructorId\". Store the new dataset <br>\n",
    "as \"df_subAggConstr_pos\"\n",
    "\n",
    "- Display\n",
    "\n",
    "Hint: See Lectures 9 and 11 (to refresh \".query()\") and <br>\n",
    "Lecture 13 for how to combine it with \".groupby()\""
   ]
  },
  {
   "cell_type": "code",
   "execution_count": 96,
   "metadata": {},
   "outputs": [
    {
     "name": "stdout",
     "output_type": "stream",
     "text": [
      "                    mean       std\n",
      "constructorId                     \n",
      "1               7.250000  3.137022\n",
      "3              16.181818  2.857208\n",
      "6               4.750000  2.734460\n",
      "9               3.363636  2.419617\n",
      "51             13.000000  3.549648\n",
      "117            12.750000  3.165869\n",
      "131             4.833333  4.174236\n",
      "210            13.833333  5.236816\n",
      "213            13.909091  2.981763\n",
      "214            11.636364  4.006812\n"
     ]
    }
   ],
   "source": [
    "# Write your own code\n",
    "filtered_results = sprint_results.query(\"raceId >= 100\")\n",
    "df_subAggConstr_pos = filtered_results.groupby(\"constructorId\")[\"position\"].agg([\"mean\", \"std\"])\n",
    "print(df_subAggConstr_pos)"
   ]
  }
 ],
 "metadata": {
  "kernelspec": {
   "display_name": "base",
   "language": "python",
   "name": "python3"
  },
  "language_info": {
   "codemirror_mode": {
    "name": "ipython",
    "version": 3
   },
   "file_extension": ".py",
   "mimetype": "text/x-python",
   "name": "python",
   "nbconvert_exporter": "python",
   "pygments_lexer": "ipython3",
   "version": "3.11.4"
  },
  "orig_nbformat": 4,
  "vscode": {
   "interpreter": {
    "hash": "45fc1f684f6f416f40889115beff3ddf69879b64cf4bfee48cb72a61e9d15d1a"
   }
  }
 },
 "nbformat": 4,
 "nbformat_minor": 2
}
