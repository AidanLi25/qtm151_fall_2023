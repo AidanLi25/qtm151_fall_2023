{
 "cells": [
  {
   "attachments": {},
   "cell_type": "markdown",
   "metadata": {},
   "source": [
    "# Assignment 7"
   ]
  },
  {
   "attachments": {},
   "cell_type": "markdown",
   "metadata": {},
   "source": [
    "## Try to submit as an HTML file"
   ]
  },
  {
   "attachments": {},
   "cell_type": "markdown",
   "metadata": {},
   "source": [
    "<font size = \"5\">\n",
    "Print your name below"
   ]
  },
  {
   "cell_type": "code",
   "execution_count": 1,
   "metadata": {},
   "outputs": [
    {
     "name": "stdout",
     "output_type": "stream",
     "text": [
      "Aidan Li\n"
     ]
    }
   ],
   "source": [
    "# Write your answer here:\n",
    "print(\"Aidan Li\")"
   ]
  },
  {
   "attachments": {},
   "cell_type": "markdown",
   "metadata": {},
   "source": [
    "<font size = \"5\">\n",
    "\n",
    "Import the \"pandas\" and \"numpy\" library"
   ]
  },
  {
   "cell_type": "code",
   "execution_count": 2,
   "metadata": {},
   "outputs": [],
   "source": [
    "# Write your answer here:\n",
    "import pandas as pd\n",
    "import numpy as np"
   ]
  },
  {
   "attachments": {},
   "cell_type": "markdown",
   "metadata": {},
   "source": [
    "<font size = \"5\">\n",
    "\n",
    "(a) Replace values from intervals\n",
    "\n",
    "<font size = \"3\">\n",
    "\n",
    "- Import the dataset \"data_raw/students.csv\" to a new object \"students\"\n",
    "- Use \"pd.cut()\" to assign the column \"numericgrade\" to a letter grade <br>\n",
    "using the following table\n",
    "\n",
    "<img src=\"figures/grading_scale.png\" alt=\"drawing\" width=\"600\"/>\n",
    "\n",
    "HINT: See Lecture 12"
   ]
  },
  {
   "cell_type": "code",
   "execution_count": 45,
   "metadata": {},
   "outputs": [
    {
     "name": "stdout",
     "output_type": "stream",
     "text": [
      "    studentid  numericgrade lettergrade\n",
      "0           1            61          C-\n",
      "1           2             0         NaN\n",
      "2           3            14           F\n",
      "3           4            57           D\n",
      "4           5            72          C+\n",
      "5           6            93           A\n",
      "6           7            40           F\n",
      "7           8            11           F\n",
      "8           9             3           F\n",
      "9          10            63          C-\n",
      "10         11             7           F\n",
      "11         12            46           F\n",
      "12         13            75          B-\n",
      "13         14            95           A\n",
      "14         15            22           F\n",
      "15         16            40           F\n",
      "16         17            53           F\n",
      "17         18            57           D\n",
      "18         19            82           B\n",
      "19         20            50           F\n",
      "20         21             8           F\n",
      "21         22            87          A-\n",
      "22         23            82           B\n",
      "23         24            30           F\n",
      "24         25            62          C-\n"
     ]
    }
   ],
   "source": [
    "# Write your answer here:\n",
    "students = pd.read_csv(\"data_raw/students.csv\")\n",
    "bins = [0, 54, 59, 64, 69, 74, 79, 82, 86, 92, 100]\n",
    "labels = [\"F\", \"D\", \"C-\", \"C\", \"C+\", \"B-\", \"B\", \"B+\", \"A-\", \"A\"]\n",
    "students[\"lettergrade\"] = pd.cut(students[\"numericgrade\"], bins = bins, labels = labels)\n",
    "print(students)"
   ]
  },
  {
   "attachments": {},
   "cell_type": "markdown",
   "metadata": {},
   "source": [
    "<font size = \"5\">\n",
    "\n",
    "For questions (b)-(e) use \"sprint_results.csv\", <br>\n",
    "a dataset on competitive car racing\n",
    "\n",
    "Import the dataset \"data_raw/sprint_results.csv\" to <br>\n",
    " a new object \"sprint_results\""
   ]
  },
  {
   "cell_type": "code",
   "execution_count": 24,
   "metadata": {},
   "outputs": [],
   "source": [
    "# Write your own code\n",
    "sprint_results = pd.read_csv(\"data_raw/sprint_results.csv\")"
   ]
  },
  {
   "attachments": {},
   "cell_type": "markdown",
   "metadata": {},
   "source": [
    "<font size = \"5\">\n",
    "\n",
    "(b) Check column types\n",
    "\n",
    "<font size = \"3\">\n",
    "\n",
    "- View the dataset\n",
    "- Use the function `sprint_results.dtypes` to get the column data types\n",
    "- Search for the \"sprint_results\" table in \"codebook/f1_codebook.pdf\".\n",
    "- **Print if the type of the \"position\" column agree with the codebook?** <br>\n",
    "i.e. is it an integer, float, or string/object?\n",
    "\n",
    "HINT: See Lectures 12 and 13 for how to interpret the codebook\n",
    "\n",
    "- Print the difference you observed between the codebook and the new dataframe you have created.\n",
    "\n",
    "---\n",
    "**Optional**\n",
    "- Convert this `sprint_results.dtypes` object type into DataFrame and  the datatype of `position`.\n",
    "- HINT: Use pd.DataFrame().reset_index <br>\n",
    "`reset_index` is to convert the index to a column \n",
    "---\n",
    "\n",
    "\n",
    "\n",
    "\n",
    "\n",
    "<span style = \"color:blue\"> There are other columns that has disparity with the codebook.\\\n",
    "Feel free to explore them! </span>"
   ]
  },
  {
   "cell_type": "code",
   "execution_count": 25,
   "metadata": {},
   "outputs": [
    {
     "name": "stdout",
     "output_type": "stream",
     "text": [
      "   resultId  raceId  driverId  constructorId  number  grid position  \\\n",
      "0         1    1061       830              9      33     2        1   \n",
      "1         2    1061         1            131      44     1        2   \n",
      "2         3    1061       822            131      77     3        3   \n",
      "3         4    1061       844              6      16     4        4   \n",
      "4         5    1061       846              1       4     6        5   \n",
      "\n",
      "  positionText  positionOrder  points  laps       time milliseconds  \\\n",
      "0            1              1       3    17  25:38.426      1538426   \n",
      "1            2              2       2    17     +1.430      1539856   \n",
      "2            3              3       1    17     +7.502      1545928   \n",
      "3            4              4       0    17    +11.278      1549704   \n",
      "4            5              5       0    17    +24.111      1562537   \n",
      "\n",
      "  fastestLap fastestLapTime  statusId  \n",
      "0         14       1:30.013         1  \n",
      "1         17       1:29.937         1  \n",
      "2         17       1:29.958         1  \n",
      "3         16       1:30.163         1  \n",
      "4         16       1:30.566         1  \n"
     ]
    }
   ],
   "source": [
    "# Write your own code here\n",
    "# Note: When you run \"sprint_results.dtypes\" you will get the type (int, float, object)\n",
    "# Object represents columns coded as strings.\n",
    "print(sprint_results.head())\n",
    "\n"
   ]
  },
  {
   "attachments": {},
   "cell_type": "markdown",
   "metadata": {},
   "source": [
    "<font size = \"5\">\n",
    "\n",
    "(c) Clean a column\n",
    "\n",
    "<font size = \"3\">\n",
    "\n",
    "- Our goal is to replace any string values in the column \"position\" <br>\n",
    "to missing values (NaNs) and covert to numeric\n",
    "\n",
    "- To do so\n",
    "    1. Extract list of non-numeric values\n",
    "    2. Replace certain list of values\n",
    "    3. Convert column to numeric\n",
    "    4. Display\n"
   ]
  },
  {
   "cell_type": "code",
   "execution_count": 65,
   "metadata": {},
   "outputs": [],
   "source": [
    "# Write your own code here\n",
    "# Create and store a list of non-numeric values\n",
    "sprint_results[\"position\"] = sprint_results[\"position\"].astype(str)\n",
    "non_numeric_values = sprint_results[sprint_results[\"position\"].str.isnumeric()][\"position\"].unique()"
   ]
  },
  {
   "cell_type": "code",
   "execution_count": 64,
   "metadata": {},
   "outputs": [
    {
     "name": "stdout",
     "output_type": "stream",
     "text": [
      "     resultId  raceId  driverId  constructorId  number  grid  position  \\\n",
      "0           1    1061       830              9      33     2       1.0   \n",
      "1           2    1061         1            131      44     1       2.0   \n",
      "2           3    1061       822            131      77     3       3.0   \n",
      "3           4    1061       844              6      16     4       4.0   \n",
      "4           5    1061       846              1       4     6       5.0   \n",
      "..        ...     ...       ...            ...     ...   ...       ...   \n",
      "115       116    1095       840            117      18    15      16.0   \n",
      "116       117    1095       839            214      31     6      17.0   \n",
      "117       118    1095         4            214      14     7      18.0   \n",
      "118       119    1095       849              3       6    16      19.0   \n",
      "119       120    1095       848              3      23    11       NaN   \n",
      "\n",
      "    positionText  positionOrder  points  laps       time milliseconds  \\\n",
      "0              1              1       3    17  25:38.426      1538426   \n",
      "1              2              2       2    17     +1.430      1539856   \n",
      "2              3              3       1    17     +7.502      1545928   \n",
      "3              4              4       0    17    +11.278      1549704   \n",
      "4              5              5       0    17    +24.111      1562537   \n",
      "..           ...            ...     ...   ...        ...          ...   \n",
      "115           16             16       0    24    +50.700      1862007   \n",
      "116           17             17       0    24    +51.756      1863063   \n",
      "117           18             18       0    24    +53.985      1865292   \n",
      "118           19             19       0    24  +1:16.850      1888157   \n",
      "119            R             20       0    12         \\N           \\N   \n",
      "\n",
      "    fastestLap fastestLapTime  statusId  \n",
      "0           14       1:30.013         1  \n",
      "1           17       1:29.937         1  \n",
      "2           17       1:29.958         1  \n",
      "3           16       1:30.163         1  \n",
      "4           16       1:30.566         1  \n",
      "..         ...            ...       ...  \n",
      "115          4       1:15.425         1  \n",
      "116          5       1:16.097         1  \n",
      "117          5       1:14.764         1  \n",
      "118          4       1:16.525         1  \n",
      "119          4       1:15.998        31  \n",
      "\n",
      "[120 rows x 16 columns]\n"
     ]
    }
   ],
   "source": [
    "# Create a list for replacement\n",
    "sprint_results[\"position\"] = sprint_results[\"position\"].replace(non_numeric_values, np.nan)\n",
    "sprint_results[\"position\"] = pd.to_numeric(sprint_results[\"position\"], errors = \"coerce\")\n",
    "print(sprint_results)"
   ]
  },
  {
   "cell_type": "code",
   "execution_count": 61,
   "metadata": {},
   "outputs": [
    {
     "ename": "AttributeError",
     "evalue": "Can only use .str accessor with string values!",
     "output_type": "error",
     "traceback": [
      "\u001b[0;31m---------------------------------------------------------------------------\u001b[0m",
      "\u001b[0;31mAttributeError\u001b[0m                            Traceback (most recent call last)",
      "\u001b[1;32m/Users/aidanli/Downloads/University/Freshman Courses/QTM151/qtm151_fall_2023/assingments/assingment7/assignment7.ipynb Cell 16\u001b[0m line \u001b[0;36m2\n\u001b[1;32m      <a href='vscode-notebook-cell:/Users/aidanli/Downloads/University/Freshman%20Courses/QTM151/qtm151_fall_2023/assingments/assingment7/assignment7.ipynb#X26sZmlsZQ%3D%3D?line=0'>1</a>\u001b[0m \u001b[39m# Task 1: Extract list of non-numeric values\u001b[39;00m\n\u001b[0;32m----> <a href='vscode-notebook-cell:/Users/aidanli/Downloads/University/Freshman%20Courses/QTM151/qtm151_fall_2023/assingments/assingment7/assignment7.ipynb#X26sZmlsZQ%3D%3D?line=1'>2</a>\u001b[0m non_numeric_values \u001b[39m=\u001b[39m sprint_results[\u001b[39m~\u001b[39msprint_results[\u001b[39m'\u001b[39;49m\u001b[39mposition\u001b[39;49m\u001b[39m'\u001b[39;49m]\u001b[39m.\u001b[39;49mstr\u001b[39m.\u001b[39misnumeric()][\u001b[39m'\u001b[39m\u001b[39mposition\u001b[39m\u001b[39m'\u001b[39m]\u001b[39m.\u001b[39munique()\n\u001b[1;32m      <a href='vscode-notebook-cell:/Users/aidanli/Downloads/University/Freshman%20Courses/QTM151/qtm151_fall_2023/assingments/assingment7/assignment7.ipynb#X26sZmlsZQ%3D%3D?line=3'>4</a>\u001b[0m \u001b[39m# Task 2: Replace certain list of values with NaN\u001b[39;00m\n\u001b[1;32m      <a href='vscode-notebook-cell:/Users/aidanli/Downloads/University/Freshman%20Courses/QTM151/qtm151_fall_2023/assingments/assingment7/assignment7.ipynb#X26sZmlsZQ%3D%3D?line=4'>5</a>\u001b[0m sprint_results[\u001b[39m'\u001b[39m\u001b[39mposition\u001b[39m\u001b[39m'\u001b[39m] \u001b[39m=\u001b[39m sprint_results[\u001b[39m'\u001b[39m\u001b[39mposition\u001b[39m\u001b[39m'\u001b[39m]\u001b[39m.\u001b[39mreplace(non_numeric_values, np\u001b[39m.\u001b[39mnan)\n",
      "File \u001b[0;32m~/anaconda3/envs/qtm151/lib/python3.11/site-packages/pandas/core/generic.py:5989\u001b[0m, in \u001b[0;36mNDFrame.__getattr__\u001b[0;34m(self, name)\u001b[0m\n\u001b[1;32m   5982\u001b[0m \u001b[39mif\u001b[39;00m (\n\u001b[1;32m   5983\u001b[0m     name \u001b[39mnot\u001b[39;00m \u001b[39min\u001b[39;00m \u001b[39mself\u001b[39m\u001b[39m.\u001b[39m_internal_names_set\n\u001b[1;32m   5984\u001b[0m     \u001b[39mand\u001b[39;00m name \u001b[39mnot\u001b[39;00m \u001b[39min\u001b[39;00m \u001b[39mself\u001b[39m\u001b[39m.\u001b[39m_metadata\n\u001b[1;32m   5985\u001b[0m     \u001b[39mand\u001b[39;00m name \u001b[39mnot\u001b[39;00m \u001b[39min\u001b[39;00m \u001b[39mself\u001b[39m\u001b[39m.\u001b[39m_accessors\n\u001b[1;32m   5986\u001b[0m     \u001b[39mand\u001b[39;00m \u001b[39mself\u001b[39m\u001b[39m.\u001b[39m_info_axis\u001b[39m.\u001b[39m_can_hold_identifiers_and_holds_name(name)\n\u001b[1;32m   5987\u001b[0m ):\n\u001b[1;32m   5988\u001b[0m     \u001b[39mreturn\u001b[39;00m \u001b[39mself\u001b[39m[name]\n\u001b[0;32m-> 5989\u001b[0m \u001b[39mreturn\u001b[39;00m \u001b[39mobject\u001b[39;49m\u001b[39m.\u001b[39;49m\u001b[39m__getattribute__\u001b[39;49m(\u001b[39mself\u001b[39;49m, name)\n",
      "File \u001b[0;32m~/anaconda3/envs/qtm151/lib/python3.11/site-packages/pandas/core/accessor.py:224\u001b[0m, in \u001b[0;36mCachedAccessor.__get__\u001b[0;34m(self, obj, cls)\u001b[0m\n\u001b[1;32m    221\u001b[0m \u001b[39mif\u001b[39;00m obj \u001b[39mis\u001b[39;00m \u001b[39mNone\u001b[39;00m:\n\u001b[1;32m    222\u001b[0m     \u001b[39m# we're accessing the attribute of the class, i.e., Dataset.geo\u001b[39;00m\n\u001b[1;32m    223\u001b[0m     \u001b[39mreturn\u001b[39;00m \u001b[39mself\u001b[39m\u001b[39m.\u001b[39m_accessor\n\u001b[0;32m--> 224\u001b[0m accessor_obj \u001b[39m=\u001b[39m \u001b[39mself\u001b[39;49m\u001b[39m.\u001b[39;49m_accessor(obj)\n\u001b[1;32m    225\u001b[0m \u001b[39m# Replace the property with the accessor object. Inspired by:\u001b[39;00m\n\u001b[1;32m    226\u001b[0m \u001b[39m# https://www.pydanny.com/cached-property.html\u001b[39;00m\n\u001b[1;32m    227\u001b[0m \u001b[39m# We need to use object.__setattr__ because we overwrite __setattr__ on\u001b[39;00m\n\u001b[1;32m    228\u001b[0m \u001b[39m# NDFrame\u001b[39;00m\n\u001b[1;32m    229\u001b[0m \u001b[39mobject\u001b[39m\u001b[39m.\u001b[39m\u001b[39m__setattr__\u001b[39m(obj, \u001b[39mself\u001b[39m\u001b[39m.\u001b[39m_name, accessor_obj)\n",
      "File \u001b[0;32m~/anaconda3/envs/qtm151/lib/python3.11/site-packages/pandas/core/strings/accessor.py:181\u001b[0m, in \u001b[0;36mStringMethods.__init__\u001b[0;34m(self, data)\u001b[0m\n\u001b[1;32m    178\u001b[0m \u001b[39mdef\u001b[39;00m \u001b[39m__init__\u001b[39m(\u001b[39mself\u001b[39m, data) \u001b[39m-\u001b[39m\u001b[39m>\u001b[39m \u001b[39mNone\u001b[39;00m:\n\u001b[1;32m    179\u001b[0m     \u001b[39mfrom\u001b[39;00m \u001b[39mpandas\u001b[39;00m\u001b[39m.\u001b[39;00m\u001b[39mcore\u001b[39;00m\u001b[39m.\u001b[39;00m\u001b[39marrays\u001b[39;00m\u001b[39m.\u001b[39;00m\u001b[39mstring_\u001b[39;00m \u001b[39mimport\u001b[39;00m StringDtype\n\u001b[0;32m--> 181\u001b[0m     \u001b[39mself\u001b[39m\u001b[39m.\u001b[39m_inferred_dtype \u001b[39m=\u001b[39m \u001b[39mself\u001b[39;49m\u001b[39m.\u001b[39;49m_validate(data)\n\u001b[1;32m    182\u001b[0m     \u001b[39mself\u001b[39m\u001b[39m.\u001b[39m_is_categorical \u001b[39m=\u001b[39m is_categorical_dtype(data\u001b[39m.\u001b[39mdtype)\n\u001b[1;32m    183\u001b[0m     \u001b[39mself\u001b[39m\u001b[39m.\u001b[39m_is_string \u001b[39m=\u001b[39m \u001b[39misinstance\u001b[39m(data\u001b[39m.\u001b[39mdtype, StringDtype)\n",
      "File \u001b[0;32m~/anaconda3/envs/qtm151/lib/python3.11/site-packages/pandas/core/strings/accessor.py:235\u001b[0m, in \u001b[0;36mStringMethods._validate\u001b[0;34m(data)\u001b[0m\n\u001b[1;32m    232\u001b[0m inferred_dtype \u001b[39m=\u001b[39m lib\u001b[39m.\u001b[39minfer_dtype(values, skipna\u001b[39m=\u001b[39m\u001b[39mTrue\u001b[39;00m)\n\u001b[1;32m    234\u001b[0m \u001b[39mif\u001b[39;00m inferred_dtype \u001b[39mnot\u001b[39;00m \u001b[39min\u001b[39;00m allowed_types:\n\u001b[0;32m--> 235\u001b[0m     \u001b[39mraise\u001b[39;00m \u001b[39mAttributeError\u001b[39;00m(\u001b[39m\"\u001b[39m\u001b[39mCan only use .str accessor with string values!\u001b[39m\u001b[39m\"\u001b[39m)\n\u001b[1;32m    236\u001b[0m \u001b[39mreturn\u001b[39;00m inferred_dtype\n",
      "\u001b[0;31mAttributeError\u001b[0m: Can only use .str accessor with string values!"
     ]
    }
   ],
   "source": [
    "# Task 1: Extract list of non-numeric values\n",
    "non_numeric_values = sprint_results[~sprint_results['position'].str.isnumeric()]['position'].unique()\n",
    "\n",
    "# Task 2: Replace certain list of values with NaN\n",
    "sprint_results['position'] = sprint_results['position'].replace(non_numeric_values, np.nan)\n",
    "\n",
    "# Task 3: Convert the \"position\" column to numeric\n",
    "sprint_results['position'] = pd.to_numeric(sprint_results['position'], errors='coerce')\n",
    "\n",
    "# Task 4: Display the updated DataFrame\n",
    "print(sprint_results)"
   ]
  },
  {
   "attachments": {},
   "cell_type": "markdown",
   "metadata": {},
   "source": [
    "<font size = \"5\">\n",
    "\n",
    "(d) Groupby + Aggregate\n",
    "\n",
    "<font size = \"3\">\n",
    "\n",
    "- Compute the mean and standard deviation of \"position\", <br>\n",
    "grouping by \"constructorId\". Store the new dataset <br>\n",
    "as \"df_aggConstrcId_pos\"\n",
    "\n",
    "- Sort the aggregate dataset in ascending <br>\n",
    "order of mean position using \".sort_values()\" <br>\n",
    "(i.e., to find the constructor with drivers having the best mean positions)\n",
    "\n",
    "- Display\n",
    "\n",
    "- Print which constructorId has the lowest mean position.\n",
    "\n",
    "HINT: See Lecture 13 <br>\n"
   ]
  },
  {
   "cell_type": "code",
   "execution_count": 10,
   "metadata": {},
   "outputs": [],
   "source": [
    "# Write your own code\n"
   ]
  },
  {
   "attachments": {},
   "cell_type": "markdown",
   "metadata": {},
   "source": [
    "<font size = \"5\" >\n",
    "\n",
    "(d) Query + Groupby + Aggregate\n",
    "\n",
    "<font size = \"3\">\n",
    "\n",
    "- Use \".query()\" to subset observations with <br>\n",
    "'race_id >= 100'\n",
    "\n",
    "- Compute the mean and standard deviation of \"position\", <br>\n",
    "grouping by \"constructorId\". Store the new dataset <br>\n",
    "as \"df_subAggConstr_pos\"\n",
    "\n",
    "- Display\n",
    "\n",
    "Hint: See Lectures 9 and 11 (to refresh \".query()\") and <br>\n",
    "Lecture 13 for how to combine it with \".groupby()\""
   ]
  },
  {
   "cell_type": "code",
   "execution_count": 11,
   "metadata": {},
   "outputs": [],
   "source": [
    "# Write your own code\n"
   ]
  }
 ],
 "metadata": {
  "kernelspec": {
   "display_name": "base",
   "language": "python",
   "name": "python3"
  },
  "language_info": {
   "codemirror_mode": {
    "name": "ipython",
    "version": 3
   },
   "file_extension": ".py",
   "mimetype": "text/x-python",
   "name": "python",
   "nbconvert_exporter": "python",
   "pygments_lexer": "ipython3",
   "version": "3.11.4"
  },
  "orig_nbformat": 4,
  "vscode": {
   "interpreter": {
    "hash": "45fc1f684f6f416f40889115beff3ddf69879b64cf4bfee48cb72a61e9d15d1a"
   }
  }
 },
 "nbformat": 4,
 "nbformat_minor": 2
}
