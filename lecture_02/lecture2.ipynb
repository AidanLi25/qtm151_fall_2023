{
 "cells": [
  {
   "attachments": {},
   "cell_type": "markdown",
   "metadata": {},
   "source": [
    "# <span style=\"color:darkblue\"> Lecture 2: Variables and Lists </span>"
   ]
  },
  {
   "attachments": {},
   "cell_type": "markdown",
   "metadata": {},
   "source": [
    "<font size=\"5\"> \n",
    "\n",
    "In the previous class we:\n",
    "- Reviewed the basic structure of Jupyter notebooks\n",
    "- Showed how to install and import libraries using **virtual environments**"
   ]
  },
  {
   "attachments": {},
   "cell_type": "markdown",
   "metadata": {},
   "source": [
    "<font size=\"5\"> \n",
    "\n",
    "In this class we will:\n",
    "\n",
    "- Introduce variables and lists\n",
    "- Compute a histogram plot\n",
    "- (Optional) Common pitfalls and understanding errors"
   ]
  },
  {
   "attachments": {},
   "cell_type": "markdown",
   "metadata": {},
   "source": [
    "# <span style=\"color:darkblue\"> Import Libraries </span>"
   ]
  },
  {
   "cell_type": "code",
   "execution_count": 9,
   "metadata": {},
   "outputs": [],
   "source": [
    "# The matplotlib library is used to create graphs\n",
    "\n",
    "import matplotlib.pyplot as plt"
   ]
  },
  {
   "attachments": {},
   "cell_type": "markdown",
   "metadata": {},
   "source": [
    "## "
   ]
  },
  {
   "attachments": {},
   "cell_type": "markdown",
   "metadata": {},
   "source": [
    "# <span style=\"color:darkblue\"> Variables and Data Types </span>"
   ]
  },
  {
   "attachments": {},
   "cell_type": "markdown",
   "metadata": {},
   "source": [
    "<font size=\"5\"> \n",
    "\n",
    "Identify the type of object\n",
    "- Integers, Floats (numbers with decimals) or strings (text)\n",
    "- Type is a function, with an argument in parenthesis (...)"
   ]
  },
  {
   "cell_type": "code",
   "execution_count": 2,
   "metadata": {},
   "outputs": [
    {
     "data": {
      "text/plain": [
       "int"
      ]
     },
     "execution_count": 2,
     "metadata": {},
     "output_type": "execute_result"
    }
   ],
   "source": [
    "type(3)"
   ]
  },
  {
   "cell_type": "code",
   "execution_count": 3,
   "metadata": {},
   "outputs": [
    {
     "data": {
      "text/plain": [
       "float"
      ]
     },
     "execution_count": 3,
     "metadata": {},
     "output_type": "execute_result"
    }
   ],
   "source": [
    "type(3.5)"
   ]
  },
  {
   "cell_type": "code",
   "execution_count": 4,
   "metadata": {},
   "outputs": [
    {
<<<<<<< Updated upstream
     "name": "stdout",
     "output_type": "stream",
     "text": [
      "<class 'int'>\n",
      "<class 'str'>\n"
     ]
=======
     "data": {
      "text/plain": [
       "str"
      ]
     },
     "execution_count": 4,
     "metadata": {},
     "output_type": "execute_result"
>>>>>>> Stashed changes
    }
   ],
   "source": [
    "print(type(3))\n",
    "print(type(\"Juans car\"))"
   ]
  },
  {
   "cell_type": "code",
   "execution_count": 5,
   "metadata": {},
   "outputs": [
    {
     "data": {
      "text/plain": [
       "str"
      ]
     },
     "execution_count": 5,
     "metadata": {},
     "output_type": "execute_result"
    }
   ],
   "source": [
    "# You can define strings with either single or double quotations.\n",
    "type(\"hello\")"
   ]
  },
  {
   "attachments": {},
   "cell_type": "markdown",
   "metadata": {},
   "source": [
    "<font size=\"5\"> \n",
    "\n",
    "Store Variables in memory\n",
    "\n",
    "- Assign variables with \"=\"\n",
    "- Write meaningful names, without spaces\n",
    "- Can use underscore \"_\"\n",
    "- Click \"Variables\" in the top panel of Jupyter Notebooks"
   ]
  },
  {
   "cell_type": "code",
<<<<<<< Updated upstream
   "execution_count": 6,
=======
   "execution_count": 5,
>>>>>>> Stashed changes
   "metadata": {},
   "outputs": [],
   "source": [
    "# Try choosing your names on the left of \"=\"\n",
    "\n",
    "number3 = 3\n",
    "number3andhalf = 3.5\n",
    "message_hello = \"hello\""
   ]
  },
  {
   "cell_type": "code",
   "execution_count": 16,
   "metadata": {},
   "outputs": [
    {
     "data": {
      "text/plain": [
       "3"
      ]
     },
     "execution_count": 16,
     "metadata": {},
     "output_type": "execute_result"
    }
   ],
   "source": [
    "# You can show the output by writing the name of the variable\n",
    "# Try including different variables\n",
    "\n",
    "number3"
   ]
  },
  {
   "cell_type": "code",
   "execution_count": 7,
   "metadata": {},
   "outputs": [],
   "source": [
    "name = 'Juan'"
   ]
  },
  {
   "cell_type": "code",
   "execution_count": 17,
   "metadata": {},
   "outputs": [
    {
     "name": "stdout",
     "output_type": "stream",
     "text": [
      "3\n",
      "3.5\n"
     ]
    }
   ],
   "source": [
    "# Jupyter only shows the output for the last object\n",
    "# You can show multiple outputs by using the function \"print\"\n",
    "\n",
    "print(number3)\n",
    "print(number3andhalf)"
   ]
  },
  {
   "attachments": {},
   "cell_type": "markdown",
   "metadata": {},
   "source": [
    "<font size=\"5\"> \n",
    "\n",
    "Basic operations on integers and floats\n",
    "\n",
    "- Addition (+), Multiplication (*), Subtraction (-), Division (/), Exponentiation (**)\n",
    "- If you try this on a string it will not work"
   ]
  },
  {
   "cell_type": "code",
   "execution_count": 8,
   "metadata": {},
   "outputs": [
    {
     "name": "stdout",
     "output_type": "stream",
     "text": [
      "6\n",
      "5\n",
      "1\n",
      "1.5\n",
      "9\n"
     ]
    }
   ],
   "source": [
    "# Basic operations on numbers\n",
    "print(3*2)\n",
    "print(3+2)\n",
    "print(3-2)\n",
    "print(3/2)\n",
    "print(3**2)"
   ]
  },
  {
   "attachments": {},
   "cell_type": "markdown",
   "metadata": {},
   "source": [
    "<font size=\"5\"> \n",
    "\n",
    "Use parenthesis for composite operations"
   ]
  },
  {
   "cell_type": "code",
   "execution_count": 9,
   "metadata": {},
   "outputs": [
    {
     "data": {
      "text/plain": [
       "1.4"
      ]
     },
     "execution_count": 9,
     "metadata": {},
     "output_type": "execute_result"
    }
   ],
   "source": [
    "(3 + 4) / 5"
   ]
  },
  {
   "cell_type": "code",
   "execution_count": 10,
   "metadata": {},
   "outputs": [
    {
     "data": {
      "text/plain": [
       "1.4"
      ]
     },
     "execution_count": 10,
     "metadata": {},
     "output_type": "execute_result"
    }
   ],
   "source": [
    "# Try doing the same with the variable \"number3\" or \"number3andhalf instead.\n",
    "\n",
    "\n",
    "(number3+4)/5"
   ]
  },
  {
   "attachments": {},
   "cell_type": "markdown",
   "metadata": {},
   "source": [
    "<font size=\"5\"> \n",
    "\n",
    "Concatenate \"add\" two strings"
   ]
  },
  {
   "cell_type": "code",
   "execution_count": 20,
   "metadata": {},
   "outputs": [
    {
     "data": {
      "text/plain": [
       "'My name is 3'"
      ]
     },
     "execution_count": 20,
     "metadata": {},
     "output_type": "execute_result"
    }
   ],
   "source": [
    "# Use the + symbol to concatenate two or more strings\n",
    "# This is very useful to contract strings where one part stays the same,\n",
    "# and the other is a user input.\n",
    "\n",
    "name = str(3)\n",
    "\n",
    "\"My name is\" + \" \"  + name"
   ]
  },
  {
   "attachments": {},
   "cell_type": "markdown",
   "metadata": {},
   "source": [
    "# <span style=\"color:darkblue\"> Lists </span>"
   ]
  },
  {
   "attachments": {},
   "cell_type": "markdown",
   "metadata": {},
   "source": [
    "<font size=\"5\"> \n",
    "\n",
    "Store Lists\n",
    "\n",
    "- Lists are always denote by square brackets [...]\n",
    "- Elements separated by commas"
   ]
  },
  {
   "cell_type": "code",
<<<<<<< Updated upstream
   "execution_count": 11,
=======
   "execution_count": 6,
>>>>>>> Stashed changes
   "metadata": {},
   "outputs": [],
   "source": [
    "# List of numbers\n",
    "# Example: Suppose you ask 5 people about their favorite color. The results:\n",
    "list_numbers = [1,2,3,4,5]\n",
    "list_numbers_sqr = [1,4,9,16,25]"
   ]
  },
  {
   "cell_type": "code",
<<<<<<< Updated upstream
   "execution_count": 26,
   "metadata": {},
   "outputs": [
    {
     "data": {
      "text/plain": [
       "tuple"
      ]
     },
     "execution_count": 26,
     "metadata": {},
     "output_type": "execute_result"
    }
   ],
   "source": [
    "type(list_numbers)"
   ]
  },
  {
   "cell_type": "code",
   "execution_count": 3,
=======
   "execution_count": 7,
>>>>>>> Stashed changes
   "metadata": {},
   "outputs": [],
   "source": [
    "# List with strings\n",
    "# Example: Suppose you ask 5 people about their favorite color. The results:\n",
    "list_colors = [\"red\",\"yellow\",\"yellow\", \"green\",\"red\"]"
   ]
  },
  {
   "cell_type": "code",
<<<<<<< Updated upstream
   "execution_count": 38,
=======
   "execution_count": 8,
>>>>>>> Stashed changes
   "metadata": {},
   "outputs": [],
   "source": [
    "# List with mixed types\n",
    "list_mixed = [\"red\",1,\"yellow\",4,5, 3.5]"
   ]
  },
  {
   "cell_type": "code",
   "execution_count": 39,
   "metadata": {},
   "outputs": [],
   "source": [
    "another_list = [list_mixed, 3, 'h']"
   ]
  },
  {
   "attachments": {},
   "cell_type": "markdown",
   "metadata": {},
   "source": [
    "<font size=\"5\">\n",
    "\n",
    "Extract individual elements from a list\n",
    "\n",
    "- Use square brackets, e.g. list_colors[2]\n",
    "- Python lists always start at the **ZERO** position\n",
    "\n",
    "\n",
    "<img src=\"figures/house_diagram.png\" alt=\"drawing\" width=\"650\"/>"
   ]
  },
  {
   "cell_type": "code",
<<<<<<< Updated upstream
   "execution_count": 31,
=======
   "execution_count": 9,
>>>>>>> Stashed changes
   "metadata": {},
   "outputs": [
    {
     "data": {
      "text/plain": [
       "'ground'"
      ]
     },
<<<<<<< Updated upstream
     "execution_count": 31,
=======
     "execution_count": 9,
>>>>>>> Stashed changes
     "metadata": {},
     "output_type": "execute_result"
    }
   ],
   "source": [
    "floors_england = [\"ground\", \"floor1\", \"floor2\" ]\n",
    "\n",
    "floors_england[0]"
   ]
  },
  {
   "cell_type": "code",
<<<<<<< Updated upstream
   "execution_count": 41,
   "metadata": {},
   "outputs": [
    {
     "data": {
      "text/plain": [
       "[['red', 1, 'yellow', 4, 5, 3.5], 3, 'h']"
      ]
     },
     "execution_count": 41,
     "metadata": {},
     "output_type": "execute_result"
    }
   ],
   "source": [
    "another_list"
   ]
  },
  {
   "cell_type": "code",
   "execution_count": 42,
   "metadata": {},
   "outputs": [
    {
     "data": {
      "text/plain": [
       "'yellow'"
      ]
     },
     "execution_count": 42,
     "metadata": {},
     "output_type": "execute_result"
    }
   ],
   "source": [
    "another_list[0][2]"
   ]
  },
  {
   "cell_type": "code",
   "execution_count": 43,
=======
   "execution_count": 10,
>>>>>>> Stashed changes
   "metadata": {},
   "outputs": [
    {
     "name": "stdout",
     "output_type": "stream",
     "text": [
      "red\n",
      "yellow\n",
      "yellow\n",
      "green\n",
      "red\n"
     ]
    }
   ],
   "source": [
    "# Use print to show the output of multiple commands\n",
    "print(list_colors[0])\n",
    "print(list_colors[1])\n",
    "print(list_colors[2])\n",
    "print(list_colors[3])\n",
    "print(list_colors[4])"
   ]
  },
  {
   "cell_type": "code",
   "execution_count": 42,
   "metadata": {},
   "outputs": [],
   "source": [
    "# Try creating a list with four elements, and then selecting the third entry\n",
    "\n"
   ]
  },
  {
   "cell_type": "code",
   "execution_count": 4,
   "metadata": {},
   "outputs": [
    {
     "data": {
      "text/plain": [
       "['red', 'yellow', 'yellow', 'green', 'red']"
      ]
     },
     "execution_count": 4,
     "metadata": {},
     "output_type": "execute_result"
    }
   ],
   "source": [
    "list_colors"
   ]
  },
  {
   "attachments": {},
   "cell_type": "markdown",
   "metadata": {},
   "source": [
    "# <span style=\"color:darkblue\"> Visualizing Lists </span>"
   ]
  },
  {
   "attachments": {},
   "cell_type": "markdown",
   "metadata": {},
   "source": [
    "<font size=\"5\"> \n",
    "\n",
    "A histogram for categorical data"
   ]
  },
  {
   "cell_type": "code",
<<<<<<< Updated upstream
   "execution_count": 5,
   "metadata": {},
   "outputs": [
    {
     "name": "stdout",
     "output_type": "stream",
     "text": [
      "['red', 'yellow', 'yellow', 'green', 'red', 'red']\n"
     ]
    }
   ],
   "source": [
    "list_list = list_colors + ['red']\n",
    "print(list_list)"
   ]
  },
  {
   "cell_type": "code",
   "execution_count": 52,
   "metadata": {},
   "outputs": [
    {
     "data": {
      "text/plain": [
       "(array([3., 0., 0., 0., 0., 2., 0., 0., 0., 1.]),\n",
       " array([0. , 0.2, 0.4, 0.6, 0.8, 1. , 1.2, 1.4, 1.6, 1.8, 2. ]),\n",
       " <BarContainer object of 10 artists>)"
      ]
     },
     "execution_count": 52,
     "metadata": {},
     "output_type": "execute_result"
    },
    {
     "data": {
      "image/png": "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",
      "text/plain": [
       "<Figure size 640x480 with 1 Axes>"
      ]
     },
     "metadata": {},
     "output_type": "display_data"
=======
   "execution_count": 15,
   "metadata": {},
   "outputs": [
    {
     "ename": "NameError",
     "evalue": "name 'plot' is not defined",
     "output_type": "error",
     "traceback": [
      "\u001b[0;31m---------------------------------------------------------------------------\u001b[0m",
      "\u001b[0;31mNameError\u001b[0m                                 Traceback (most recent call last)",
      "Cell \u001b[0;32mIn[15], line 2\u001b[0m\n\u001b[1;32m      1\u001b[0m \u001b[39m# This creates a histogram with the \"list_colors\"\u001b[39;00m\n\u001b[0;32m----> 2\u001b[0m plot\u001b[39m.\u001b[39mhist(x\u001b[39m=\u001b[39m list_colors)\n",
      "\u001b[0;31mNameError\u001b[0m: name 'plot' is not defined"
     ]
>>>>>>> Stashed changes
    }
   ],
   "source": [
    "# This creates a histogram with the \"list_colors\"\n",
<<<<<<< Updated upstream
    "plt.hist(x= list_list)"
=======
    "plot.hist(x= list_colors)"
>>>>>>> Stashed changes
   ]
  },
  {
   "cell_type": "code",
   "execution_count": 10,
   "metadata": {},
   "outputs": [
    {
     "data": {
      "text/plain": [
       "(array([8., 0., 0., 0., 0., 0., 0., 0., 0., 7.]),\n",
       " array([0. , 0.1, 0.2, 0.3, 0.4, 0.5, 0.6, 0.7, 0.8, 0.9, 1. ]),\n",
       " <BarContainer object of 10 artists>)"
      ]
     },
     "execution_count": 10,
     "metadata": {},
     "output_type": "execute_result"
    },
    {
     "data": {
      "image/png": "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",
      "text/plain": [
       "<Figure size 640x480 with 1 Axes>"
      ]
     },
     "metadata": {},
     "output_type": "display_data"
    }
   ],
   "source": [
    "# Creat a list with repeated string values\n",
    "# Compute your own histogram\n",
    "\n",
    "list_yesno = [\"yes\", \"no\", \"no\", \"no\", \"no\", \"yes\", \"yes\", \"yes\", \"no\", \"no\", \"yes\", \"no\", \"yes\", \"yes\", \"yes\"]\n",
    "plt.hist(list_yesno)"
   ]
  },
  {
   "attachments": {},
   "cell_type": "markdown",
   "metadata": {},
   "source": [
    "<font size=\"5\"> \n",
    "\n",
    "A scatterplot for continuous data"
   ]
  },
  {
   "cell_type": "code",
   "execution_count": 12,
   "metadata": {},
   "outputs": [
    {
     "name": "stdout",
     "output_type": "stream",
     "text": [
      "[1, 2, 3, 4, 5]\n",
      "[1, 4, 9, 16, 25]\n"
     ]
    }
   ],
   "source": [
    "print(list_numbers)\n",
    "print(list_numbers_sqr)"
   ]
  },
  {
   "cell_type": "code",
   "execution_count": 56,
   "metadata": {},
   "outputs": [
    {
     "data": {
      "text/plain": [
       "tuple"
      ]
     },
     "execution_count": 56,
     "metadata": {},
     "output_type": "execute_result"
    }
   ],
   "source": [
    "type(list_numbers)"
   ]
  },
  {
   "cell_type": "code",
   "execution_count": 57,
   "metadata": {},
   "outputs": [
    {
     "data": {
      "image/png": "iVBORw0KGgoAAAANSUhEUgAAAjMAAAGwCAYAAABcnuQpAAAAOXRFWHRTb2Z0d2FyZQBNYXRwbG90bGliIHZlcnNpb24zLjcuMSwgaHR0cHM6Ly9tYXRwbG90bGliLm9yZy/bCgiHAAAACXBIWXMAAA9hAAAPYQGoP6dpAAA6eUlEQVR4nO3deXgUVb7/8U8nhCSQRQNkEwiRzUE2AYVw2VREMg6CoOCCF8QfIwQQjYyOa4hbZMZt5o6Du8iAgwuiIIigkKAisoVBWQJCENSOYU1CgECS8/vDm7402bpCZ6nk/Xqefh666lT19+T0TH+sOlXlMMYYAQAA2JRPbRcAAABwPggzAADA1ggzAADA1ggzAADA1ggzAADA1ggzAADA1ggzAADA1hrVdgHVrbi4WL/88ouCg4PlcDhquxwAAOABY4zy8vIUHR0tH5+Kj73U+zDzyy+/qFWrVrVdBgAAqIIDBw6oZcuWFbap92EmODhY0m9/jJCQkFquBgAAeCI3N1etWrVy/Y5XpN6HmZJTSyEhIYQZAABsxpMpIkwABgAAtkaYAQAAtkaYAQAAtkaYAQAAtkaYAQAAtkaYAQAAtkaYAQAAtkaYAQAAtkaYAQAAtlbv7wAMAAC8r6jYaH3mEWXnnVJ4cICuiA2Tr0/tPNC5Vo/MpKSk6PLLL1dwcLDCw8M1YsQIZWRkuLUZP368HA6H26tPnz61VDEAAFj+vVP9Zq3SLa+t0/QFW3TLa+vUb9YqLf/eWSv11GqYSUtL05QpU7Ru3TqtXLlShYWFGjJkiPLz893aDR06VE6n0/VatmxZLVUMAEDDtvx7pybP2yxnzim35Vk5pzR53uZaCTS1eppp+fLlbu/feusthYeHa9OmTRowYIBrub+/vyIjI2u6PAAAcJaiYqPkJdtlylhnJDkkJS/Zrms6RdboKac6NQE4JydHkhQWFua2PDU1VeHh4erQoYMmTpyo7OzscvdRUFCg3NxctxcAADh/6zOPlDoiczYjyZlzSuszj9RcUapDYcYYo8TERPXr10+dO3d2LY+Pj9f8+fO1atUqPffcc9qwYYOuuuoqFRQUlLmflJQUhYaGul6tWrWqqS4AAFCvZeeVH2Sq0s5bHMaYso4W1bgpU6Zo6dKl+uqrr9SyZcty2zmdTsXExGjBggUaOXJkqfUFBQVuQSc3N1etWrVSTk6OQkJCqqV2AAAagm/2HNYtr62rtN2/J/ZRXNtm5/VZubm5Cg0N9ej3u05cmj1t2jQtXrxYa9asqTDISFJUVJRiYmK0e/fuMtf7+/vL39+/OsoEAKBBuyI2TFGhAcrKOVXmvBmHpMjQ3y7Trkm1eprJGKOpU6fqww8/1KpVqxQbG1vpNocPH9aBAwcUFRVVAxUCAIASvj4OJQ3rJOm34HK2kvdJwzrV+P1majXMTJkyRfPmzdM777yj4OBgZWVlKSsrSydPnpQkHT9+XDNmzNA333yjffv2KTU1VcOGDVPz5s11ww031GbpAAA0SEM7R2n22B6KDA1wWx4ZGqDZY3toaOeaP9hQq3NmHI6yk9tbb72l8ePH6+TJkxoxYoTS09N17NgxRUVF6corr9QTTzzh8cReK+fcAACAZ6r7DsBWfr/rzATg6kKYAQDAfqz8fteZS7MBAACqgjADAABsjTADAABsjTADAABsjTADAABsjTADAABsjTADAABsjTADAABsjTADAABsjTADAABsjTADAABsjTADAABsjTADAABsjTADAABsjTADAABsjTADAABsjTADAABsjTADAABsjTADAABsjTADAABsjTADAABsjTADAABsjTADAABsjTADAABsjTADAABsjTADAABsjTADAABsjTADAABsjTADAABsjTADAABsjTADAABsjTADAABsjTADAABsjTADAABsjTADAABsjTADAABsjTADAABsjTADAABsjTADAABsjTADAABsjTADAABsjTADAABsjTADAABsjTADAABsjTADAABsjTADAABsjTADAABsjTADAABsjTADAABsjTADAABsjTADAABsjTADAABsjTADAABsjTADAABsjTADAABsjTADAABsjTADAABsjTADAABsjTADAABsrVbDTEpKii6//HIFBwcrPDxcI0aMUEZGhlsbY4xmzpyp6OhoBQYGatCgQdq2bVstVQwAAOqaWg0zaWlpmjJlitatW6eVK1eqsLBQQ4YMUX5+vqvNX/7yFz3//PP6xz/+oQ0bNigyMlLXXHON8vLyarFyAABQVziMMaa2iyhx8OBBhYeHKy0tTQMGDJAxRtHR0brnnnv0wAMPSJIKCgoUERGhWbNm6a677qp0n7m5uQoNDVVOTo5CQkKquwsAAMALrPx+16k5Mzk5OZKksLAwSVJmZqaysrI0ZMgQVxt/f38NHDhQa9euLXMfBQUFys3NdXsBAID6q86EGWOMEhMT1a9fP3Xu3FmSlJWVJUmKiIhwaxsREeFad66UlBSFhoa6Xq1atarewgEAQK2qM2Fm6tSp2rp1q/7973+XWudwONzeG2NKLSvx4IMPKicnx/U6cOBAtdQLAADqhka1XYAkTZs2TYsXL9aaNWvUsmVL1/LIyEhJvx2hiYqKci3Pzs4udbSmhL+/v/z9/au3YAAAUGfU6pEZY4ymTp2qDz/8UKtWrVJsbKzb+tjYWEVGRmrlypWuZadPn1ZaWpr69u1b0+UCAIA6qFaPzEyZMkXvvPOOPv74YwUHB7vmwYSGhiowMFAOh0P33HOPnn76abVv317t27fX008/rSZNmujWW2+tzdIBAEAdUathZvbs2ZKkQYMGuS1/6623NH78eEnS/fffr5MnTyohIUFHjx5V7969tWLFCgUHB9dwtQAAoC6qU/eZqQ7cZwYAAPux7X1mAAAArCLMAAAAWyPMAAAAWyPMAAAAWyPMAAAAW/NKmDl27Jg3dgMAAGCZ5TAza9Ysvfvuu673o0ePVrNmzXTRRRfpP//5j1eLAwAAqIzlMPPKK6+4nkS9cuVKrVy5Up9++qni4+P1pz/9yesFAgAAVMTyHYCdTqcrzHzyyScaPXq0hgwZojZt2qh3795eLxAAAKAilo/MXHjhhTpw4IAkafny5Ro8eLCk3x4aWVRU5N3qAAAAKmH5yMzIkSN16623qn379jp8+LDi4+MlSVu2bFG7du28XiAAAEBFLIeZF154QW3atNGBAwf0l7/8RUFBQZJ+O/2UkJDg9QIBAAAqwoMmAQBAnWPl99ujIzOLFy9WfHy8/Pz8tHjx4grbXn/99Z5XCgAAcJ48OjLj4+OjrKwshYeHy8en/DnDDoejzk0C5sgMAAD24/UjM8XFxWX+GwAAoLZ59dlMJ06c8ObuAAAAKmU5zAwaNEg//fRTqeXffvutunfv7o2aAAAAPGY5zISEhKhr165asGCBpN9OO82cOVMDBgxg8i8AAKhxlu8zs3jxYr388sv6f//v/2nx4sXat2+f9u/fr6VLl7ruBgwAAFBTLIcZSZo0aZJ+/PFHzZo1S40aNVJqaqr69u3r7doAAAAqZfk009GjRzVq1CjNnj1br7zyiutBk//85z+roz4AAIAKWT4y07lzZ8XGxio9PV2xsbGaOHGi3n33XSUkJGjp0qVaunRpddQJAABQJstHZiZNmqQ1a9YoNjbWtWzMmDH6z3/+o9OnT3u1OAAAgMrwbCYAAFDneP0OwGU5ceKE9u/fX+poTNeuXau6SwAAAMssh5mDBw/qjjvu0Kefflrm+rr2bCYAAFC/WZ4zc8899+jo0aNat26dAgMDtXz5cr399ttq3759pU/UBgAA8DbLR2ZWrVqljz/+WJdffrl8fHwUExOja665RiEhIUpJSdF1111XHXUCAACUyfKRmfz8fIWHh0uSwsLCdPDgQUlSly5dtHnzZu9WBwAAUAnLYaZjx47KyMiQJHXv3l2vvPKKfv75Z7388suKioryeoEAAAAVsXya6Z577pHT6ZQkJSUl6dprr9X8+fPVuHFjzZkzx9v1AQAAVOi87zNz4sQJ7dy5U61bt1bz5s29VZfXcJ8ZAADsx8rvt+XTTGf7+uuv5evrqx49etTJIAMAAOq/8woz8fHx+vnnn71VCwAAgGXnFWbq+ZMQAACADXgcZpYsWVKddQAAAFSJx2Hmxhtv1J133qnjx4+7lr3yyiuKiIiolsIAAAA84XGYWb9+vdLT09WlSxelpaVJkm699VY1bdq02ooDAACojMdhplu3blq/fr3GjRuna6+9Vvfdd5+OHDmi3NxctxcAAEBNqtJ9ZlasWKHf//73bhOAjTFyOBx17qnZ3GcGAAD7sfL7bfkOwB9++KEmT56sAQMG6OGHH1ajRpZ3AQAA4DUeJ5Fjx44pISFBixcv1lNPPaXp06dXZ10AAAAe8TjMdOrUSa1bt9amTZvUsWPH6qwJAADAYx6HmYSEBD344IPy9fWtznoAAA1EUbHR+swjys47pfDgAF0RGyZfH0dtlwUbOu8HTdZ1TAAGgLpn+fdOJS/ZLmfOKdeyqNAAJQ3rpKGdo2qxMtQVNfagSQAArFr+vVOT5212CzKSlJVzSpPnbdby7521VBnsijADAKgxRcVGyUu2q6xTAiXLkpdsV1FxvT5pAC8jzAAAasz6zCOljsiczUhy5pzS+swjNVcUbM9SmDlz5owuvvhibd++vbrqAQDUY9l55QeZqrQDJIthxs/PTwUFBXI4mG0OALAuPDjAq+0AqQqnmaZNm6ZZs2apsLCwOuoBANRjV8SGKSo0QOX9J7FDv13VdEVsWE2WBZuz/CyCb7/9Vl988YVWrFihLl26lHpq9ocffui14gAA9Yuvj0NJwzpp8rzNckhuE4FLAk7SsE7cbwaWWA4zF1xwgUaNGlUdtQAAGoChnaM0e2yPUveZieQ+M6gibpoHAKgV3AEYFanWp2aXOHjwoDIyMuRwONShQwe1aNGiqrsCADRAvj4OxbVtVttloB6wPAE4Pz9fEyZMUFRUlAYMGKD+/fsrOjpad955p06cOFEdNQIAAJTLcphJTExUWlqalixZomPHjunYsWP6+OOPlZaWpvvuu686agQAACiX5TkzzZs31wcffKBBgwa5LV+9erVGjx6tgwcPerO+88acGQAA7KdaHzR54sQJRURElFoeHh5u+TTTmjVrNGzYMEVHR8vhcOijjz5yWz9+/Hg5HA63V58+fayWDAAA6jHLYSYuLk5JSUk6der/Lqc7efKkkpOTFRcXZ2lf+fn56tatm/7xj3+U22bo0KFyOp2u17Jly6yWDAAA6jHLVzO9+OKLio+PV8uWLdWtWzc5HA5t2bJFAQEB+uyzzyztKz4+XvHx8RW28ff3V2RkpNUyAQBAA2E5zHTp0kW7d+/WvHnztHPnThljdPPNN+u2225TYGCg1wtMTU1VeHi4LrjgAg0cOFBPPfWUwsPDy21fUFCggoIC1/vc3Fyv1wQAAOoOj8JMjx499MUXX+jCCy/U448/rhkzZmjixInVXZvi4+N10003KSYmRpmZmXr00Ud11VVXadOmTfL39y9zm5SUFCUnJ1d7bQAAoG7w6GqmwMBA7d69Wy1btpSvr6+cTmeFR0eqVIjDoUWLFmnEiBHltnE6nYqJidGCBQs0cuTIMtuUdWSmVatWXM0EAICNeP0OwN27d9cdd9yhfv36yRijZ599VkFBQWW2feyxx6xX7KGoqCjFxMRo9+7d5bbx9/cv96gNAACofzwKM3PmzFFSUpI++eQTORwOffrpp2rUqPSmDoejWsPM4cOHdeDAAUVF8RAyAADwG4/CTMeOHbVgwQJJko+Pj7744guvnGY6fvy4fvjhB9f7zMxMbdmyRWFhYQoLC9PMmTM1atQoRUVFad++fXrooYfUvHlz3XDDDef92QAAoH6wfDVTcXGx1z5848aNuvLKK13vExMTJUnjxo3T7Nmz9d1332nu3Lk6duyYoqKidOWVV+rdd99VcHCw12oAAAD2ZvlxBnbD4wwAALCfan2cAQAAQF1CmAEAALZGmAEAALZWpTBz7Ngxvf7663rwwQd15MgRSdLmzZv1888/e7U4AACAyli+mmnr1q0aPHiwQkNDtW/fPk2cOFFhYWFatGiRfvzxR82dO7c66gQAACiT5SMziYmJGj9+vHbv3q2AgADX8vj4eK1Zs8arxQEAAFTGcpjZsGGD7rrrrlLLL7roImVlZXmlKAAAAE9ZDjMBAQHKzc0ttTwjI0MtWrTwSlEAAACeshxmhg8frscff1xnzpyR9NvzmPbv368///nPGjVqlNcLBAAAqIjlMPPss8/q4MGDCg8P18mTJzVw4EC1a9dOwcHBeuqpp6qjRgAAgHJZvpopJCREX331lVatWqXNmzeruLhYPXr00ODBg6ujPgAAgArxbCYAAFDnWPn9tnxkRpLWr1+v1NRUZWdnl3qK9vPPP1+VXQIAAFSJ5TDz9NNP65FHHlHHjh0VEREhh8PhWnf2vwEAAGqC5TDzt7/9TW+++abGjx9fDeUAAABYY/lqJh8fH/3Xf/1XddQCAABgmeUwc++99+qll16qjloAAAAss3yaacaMGbruuuvUtm1bderUSX5+fm7rP/zwQ68VBwAAUBnLYWbatGlavXq1rrzySjVr1oxJvwAAoFZZDjNz587VwoULdd1111VHPQAAAJZYnjMTFhamtm3bVkctAAAAllkOMzNnzlRSUpJOnDhRHfUAAABYYvk009///nft2bNHERERatOmTakJwJs3b/ZacQAAAJWxHGZGjBhRDWUAAABUDQ+aBAAAdY6V32/Lc2YAAADqEsunmYqKivTCCy/ovffe0/79+3X69Gm39UeOHPFacQAAAJWxfGQmOTlZzz//vEaPHq2cnBwlJiZq5MiR8vHx0cyZM6uhRAAAgPJZDjPz58/Xa6+9phkzZqhRo0a65ZZb9Prrr+uxxx7TunXrqqNGAACAclkOM1lZWerSpYskKSgoSDk5OZKkP/zhD1q6dKl3qwMAAKiE5TDTsmVLOZ1OSVK7du20YsUKSdKGDRvk7+/v3eoAAAAqYTnM3HDDDfriiy8kSdOnT9ejjz6q9u3b67//+781YcIErxcIAABQkfO+z8y6deu0du1atWvXTtdff7236vIa7jMDAID9WPn9tnxp9rn69OmjPn36nO9uAAAAqqRKYWbXrl1KTU1Vdna2iouL3dY99thjXikMAADAE5bDzGuvvabJkyerefPmioyMlMPhcK1zOByEGQAAUKMsh5knn3xSTz31lB544IHqqAcAAMASy1czHT16VDfddFN11AIAAGCZ5TBz0003ue4tAwAAUNssn2Zq166dHn30Ua1bt05dunSRn5+f2/q7777ba8UBAABUxvJ9ZmJjY8vfmcOhvXv3nndR3sR9ZgAAsJ9qvc9MZmZmlQsDAADwNstzZgAAAOoSwgwAALA1wgwAALA1wgwAALA1wgwAALC1KoWZL7/8UmPHjlVcXJx+/vlnSdK//vUvffXVV14tDgAAoDKWw8zChQt17bXXKjAwUOnp6SooKJAk5eXl6emnn/Z6gQAAABWxHGaefPJJvfzyy3rttdfc7v7bt29fbd682avFAQAAVMZymMnIyNCAAQNKLQ8JCdGxY8e8URMAAIDHLIeZqKgo/fDDD6WWf/XVV7r44ou9UhQAAICnLIeZu+66S9OnT9e3334rh8OhX375RfPnz9eMGTOUkJBQHTUCAACUy/Kzme6//37l5OToyiuv1KlTpzRgwAD5+/trxowZmjp1anXUCAAAUC7LT80uceLECW3fvl3FxcXq1KmTgoKCvF2bV/DUbAAA7MfK77fl00wTJkxQXl6emjRpol69eumKK65QUFCQ8vPzNWHChCoXDQAAUBWWw8zbb7+tkydPllp+8uRJzZ071ytFAQAAeMrjOTO5ubkyxsgYo7y8PAUEBLjWFRUVadmyZQoPD6+WIgEAAMrjcZi54IIL5HA45HA41KFDh1LrHQ6HkpOTvVocAABAZTw+zbR69Wp98cUXMsbogw8+0KpVq1yvr776Svv379fDDz9s6cPXrFmjYcOGKTo6Wg6HQx999JHbemOMZs6cqejoaAUGBmrQoEHatm2bpc8AAAD1m8dHZgYOHChJyszMVOvWreVwOM77w/Pz89WtWzfdcccdGjVqVKn1f/nLX/T8889rzpw56tChg5588kldc801ysjIUHBw8Hl/PgAAsD+PwszWrVvVuXNn+fj4KCcnR9999125bbt27erxh8fHxys+Pr7MdcYYvfjii3r44Yc1cuRISb9NPo6IiNA777yju+66y+PPAQAA9ZdHYaZ79+7KyspSeHi4unfvLofDobJuT+NwOFRUVOSVwjIzM5WVlaUhQ4a4lvn7+2vgwIFau3ZtuWGmoKDA9SRv6beJywAAoP7yKMxkZmaqRYsWrn/XhKysLElSRESE2/KIiAj9+OOP5W6XkpLCRGQAABoQjyYAx8TEyOFw6MyZM5o5c6aKiooUExNT5svbzp2bY4ypcL7Ogw8+qJycHNfrwIEDXq8JAADUHZZumufn56dFixZVVy1uIiMjJf3fEZoS2dnZpY7WnM3f318hISFuLwAAUH9ZvgPwDTfcUOoS6uoQGxuryMhIrVy50rXs9OnTSktLU9++fav98wEAgD1Yfmp2u3bt9MQTT2jt2rXq2bOnmjZt6rb+7rvv9nhfx48f1w8//OB6n5mZqS1btigsLEytW7fWPffco6efflrt27dX+/bt9fTTT6tJkya69dZbrZYNAADqKctPzY6NjS1/Zw6H9u7d6/G+UlNTdeWVV5ZaPm7cOM2ZM0fGGCUnJ+uVV17R0aNH1bt3b7300kvq3Lmzx5/BU7MBALAfK7/flsOM3RBmAACwHyu/35bnzAAAANQllufMTJgwocL1b775ZpWLAQAAsMpymDl69Kjb+zNnzuj777/XsWPHdNVVV3mtMACoSFGx0frMI8rOO6Xw4ABdERsmX5/zf2YcAPuxHGbKus9McXGxEhISdPHFF3ulKACoyPLvnUpesl3OnFOuZVGhAUoa1klDO0fVYmUAaoPXJgBnZGRo0KBBcjqd3tid1zABGKhfln/v1OR5m3Xu/3GVHJOZPbYHgQaoB2plAvCePXtUWFjord0BQClFxUbJS7aXCjKSXMuSl2xXUXG9vkgTwDksn2ZKTEx0e2+MkdPp1NKlSzVu3DivFQYA51qfecTt1NK5jCRnzimtzzyiuLbNaq4wALXKcphJT093e+/j46MWLVroueeeq/RKJwA4H9l55QeZqrQDUD9YDjOrV6+ujjoAoFLhwQFebQegfrAcZkocPHhQGRkZcjgc6tChg1q0aOHNugCglCtiwxQVGqCsnFNlzptxSIoM/e0ybQANh+UJwPn5+ZowYYKioqI0YMAA9e/fX9HR0brzzjt14sSJ6qgRACRJvj4OJQ3rJOn/rl4qUfI+aVgn7jcDNDCWw0xiYqLS0tK0ZMkSHTt2TMeOHdPHH3+stLQ03XfffdVRIwC4DO0cpdljeygy1P1UUmRoAJdlAw2U5fvMNG/eXB988IEGDRrktnz16tUaPXq0Dh486M36zhv3mQHqJ+4ADNRvVn6/Lc+ZOXHihCIiIkotDw8P5zQTgBrj6+Pg8msAkqpwmikuLk5JSUk6der/Ln08efKkkpOTFRcX59XiAAAAKmP5yMzf/vY3DR06VC1btlS3bt3kcDi0ZcsWBQQE6LPPPquOGgEAAMpVpWcznTx5UvPmzdPOnTtljFGnTp102223KTAwsDpqPC/MmQEAwH6qfc5MkyZNNHHixCoXCAAA4C2W58yEh4dr7Nix+uyzz1RcXFwdNQEAAHjMcpiZO3euCgoKdMMNNyg6OlrTp0/Xhg0bqqM2AACASlkOMyNHjtT777+vX3/9VSkpKdqxY4f69u2rDh066PHHH6+OGgEAAMpVpQnA59q+fbtuu+02bd26VUVFRd6oy2uYAAwAgP1Y+f22fGSmxKlTp/Tee+9pxIgR6tGjhw4fPqwZM2ZUdXcAAABVYvlqphUrVmj+/Pn66KOP5OvrqxtvvFGfffaZBg4cWB31AQAAVMhymBkxYoSuu+46vf3227ruuuvk5+dXHXUBAAB4xHKYycrKYu4JAACoMyyHmbODzMmTJ3XmzJly1wMAAFQ3yxOA8/PzNXXqVIWHhysoKEgXXnih2wsAAKAmWQ4z999/v1atWqV//vOf8vf31+uvv67k5GRFR0dr7ty51VEjAABAuSyfZlqyZInmzp2rQYMGacKECerfv7/atWunmJgYzZ8/X7fddlt11AkAAFAmy0dmjhw5otjYWEm/zY85cuSIJKlfv35as2aNd6sDAACohOUwc/HFF2vfvn2SpE6dOum9996T9NsRmwsuuMCbtQEAAFTKcpi544479J///EeS9OCDD7rmztx7773605/+5PUCAQAAKuLxs5n27t2r2NhYORwOt+X79+/Xxo0b1bZtW3Xr1q1aijwfPJsJAAD7qZZnM7Vv314HDx50vR8zZox+/fVXtW7dWiNHjqyTQQYAANR/HoeZcw/gLFu2TPn5+V4vCAAAwIoqPzUbAACgLvA4zDgcjlLzZc59DwAAUNM8vmmeMUbjx4+Xv7+/JOnUqVOaNGmSmjZt6tbuww8/9G6FAAAAFfA4zIwbN87t/dixY71eDAAAgFUeh5m33nqrOusAAACoEiYAAwAAWyPMAAAAWyPMAAAAWyPMAAAAWyPMAAAAWyPMAAAAWyPMAAAAWyPMAAAAWyPMAAAAWyPMAAAAWyPMAAAAWyPMAAAAWyPMAAAAWyPMAAAAWyPMAAAAWyPMAAAAWyPMAAAAWyPMAAAAW6vTYWbmzJlyOBxur8jIyNouCwAA1CGNaruAylx66aX6/PPPXe99fX1rsRoAAFDX1Pkw06hRI47GAACActXp00yStHv3bkVHRys2NlY333yz9u7dW2H7goIC5ebmur0AAED9VafDTO/evTV37lx99tlneu2115SVlaW+ffvq8OHD5W6TkpKi0NBQ16tVq1Y1WDEAAKhpDmOMqe0iPJWfn6+2bdvq/vvvV2JiYpltCgoKVFBQ4Hqfm5urVq1aKScnRyEhITVVKgAAOA+5ubkKDQ316Pe7zs+ZOVvTpk3VpUsX7d69u9w2/v7+8vf3r8GqAABAbarTp5nOVVBQoB07digqKqq2SwEAAHVEnQ4zM2bMUFpamjIzM/Xtt9/qxhtvVG5ursaNG1fbpQEAgDqiTp9m+umnn3TLLbfo0KFDatGihfr06aN169YpJiamtksDAAB1RJ0OMwsWLKjtEgAAQB1Xp08zAQAAVIYwAwAAbK1On2YCqktRsdH6zCPKzjul8OAAXREbJl8fR22XBQCoAsIMGpzl3zuVvGS7nDmnXMuiQgOUNKyThnbmsn8AsBtOM6FBWf69U5PnbXYLMpKUlXNKk+dt1vLvnbVUGQCgqggzaDCKio2Sl2xXWc/vKFmWvGS7iopt84QPAIAIM2hA1mceKXVE5mxGkjPnlNZnHqm5ogAA540wgwYjO6/8IFOVdgCAuoEwgwYjPDjAq+0AAHUDYQYNxhWxYYoKDVB5F2A79NtVTVfEhtVkWQCA80SYQYPh6+NQ0rBOklQq0JS8TxrWifvNAIDNEGbQoAztHKXZY3soMtT9VFJkaIBmj+3BfWYAwIa4aR4anKGdo3RNp0juAAwA9QRhBg2Sr49DcW2b1XYZAAAv4DQTAACwNcIMAACwNcIMAACwNcIMAACwNcIMAACwNcIMAACwNcIMAACwNcIMAACwNcIMAACwNcIMAACwNcIMAACwNcIMAACwNcIMAACwNcIMAACwNcIMAACwNcIMAACwNcIMAACwNcIMAACwNcIMAACwNcIMAACwNcIMAACwNcIMAACwNcIMAACwNcIMAACwNcIMAACwNcIMAACwNcIMAACwNcIMAACwNcIMAACwNcIMAACwtUa1XYBdFRUbrc88ouy8UwoPDtAVsWHy9XHUdlkAADQ4hJkqWP69U8lLtsuZc8q1LCo0QEnDOmlo56harAwAgIaH00wWLf/eqcnzNrsFGUnKyjmlyfM2a/n3zlqqDACAhokwY0FRsVHyku0yZawrWZa8ZLuKistqAQAAqgNhxoL1mUdKHZE5m5HkzDml9ZlHaq4oAAAaOMKMBdl55QeZqrQDAADnjzBjQXhwgFfbAQCA80eYseCK2DBFhQaovAuwHfrtqqYrYsNqsiwAABo0wowFvj4OJQ3rJEmlAk3J+6RhnbjfDAAANYgwY9HQzlGaPbaHIkPdTyVFhgZo9tge3GcGAIAaxk3zqmBo5yhd0ymSOwADAFAHEGaqyNfHobi2zWq7DAAAGjxOMwEAAFsjzAAAAFsjzAAAAFuzRZj55z//qdjYWAUEBKhnz5768ssva7skAABQR9T5MPPuu+/qnnvu0cMPP6z09HT1799f8fHx2r9/f22XBgAA6gCHMaZOP+K5d+/e6tGjh2bPnu1a9rvf/U4jRoxQSkpKpdvn5uYqNDRUOTk5CgkJqc5SAQCAl1j5/a7TR2ZOnz6tTZs2aciQIW7LhwwZorVr15a5TUFBgXJzc91eAACg/qrTYebQoUMqKipSRESE2/KIiAhlZWWVuU1KSopCQ0Ndr1atWtVEqQAAoJbU6TBTwuFwv7OuMabUshIPPvigcnJyXK8DBw7URIkAAKCW1Ok7ADdv3ly+vr6ljsJkZ2eXOlpTwt/fX/7+/q73JVOCON0EAIB9lPxuezK1t06HmcaNG6tnz55auXKlbrjhBtfylStXavjw4R7tIy8vT5I43QQAgA3l5eUpNDS0wjZ1OsxIUmJiom6//Xb16tVLcXFxevXVV7V//35NmjTJo+2jo6N14MABBQcHl3tqqqpyc3PVqlUrHThwoF5eKUX/7K++95H+2V997yP9qzpjjPLy8hQdHV1p2zofZsaMGaPDhw/r8ccfl9PpVOfOnbVs2TLFxMR4tL2Pj49atmxZrTWGhITUyy9pCfpnf/W9j/TP/up7H+lf1VR2RKZEnQ8zkpSQkKCEhITaLgMAANRBtriaCQAAoDyEmfPg7++vpKQkt6un6hP6Z3/1vY/0z/7qex/pX82o848zAAAAqAhHZgAAgK0RZgAAgK0RZgAAgK0RZgAAgK0RZsqxZs0aDRs2TNHR0XI4HProo48q3SYtLU09e/ZUQECALr74Yr388svVX2gVWe1famqqHA5HqdfOnTtrpmCLUlJSdPnllys4OFjh4eEaMWKEMjIyKt3OTmNYlT7aaRxnz56trl27um7GFRcXp08//bTCbew0flb7Z6exK0tKSoocDofuueeeCtvZaQzP5Ukf7TSOM2fOLFVnZGRkhdvU1vgRZsqRn5+vbt266R//+IdH7TMzM/X73/9e/fv3V3p6uh566CHdfffdWrhwYTVXWjVW+1ciIyNDTqfT9Wrfvn01VXh+0tLSNGXKFK1bt04rV65UYWGhhgwZovz8/HK3sdsYVqWPJewwji1bttQzzzyjjRs3auPGjbrqqqs0fPhwbdu2rcz2dhs/q/0rYYexO9eGDRv06quvqmvXrhW2s9sYns3TPpawyzheeumlbnV+99135bat1fEzqJQks2jRogrb3H///eaSSy5xW3bXXXeZPn36VGNl3uFJ/1avXm0kmaNHj9ZITd6WnZ1tJJm0tLRy29h5DI3xrI92H8cLL7zQvP7662Wus/v4GVNx/+w6dnl5eaZ9+/Zm5cqVZuDAgWb69OnltrXrGFrpo53GMSkpyXTr1s3j9rU5fhyZ8ZJvvvlGQ4YMcVt27bXXauPGjTpz5kwtVeV9l112maKionT11Vdr9erVtV2Ox3JyciRJYWFh5bax+xh60scSdhvHoqIiLViwQPn5+YqLiyuzjZ3Hz5P+lbDb2E2ZMkXXXXedBg8eXGlbu46hlT6WsMs47t69W9HR0YqNjdXNN9+svXv3ltu2NsfPFs9msoOsrCxFRES4LYuIiFBhYaEOHTqkqKioWqrMO6KiovTqq6+qZ8+eKigo0L/+9S9dffXVSk1N1YABA2q7vAoZY5SYmKh+/fqpc+fO5baz8xh62ke7jeN3332nuLg4nTp1SkFBQVq0aJE6depUZls7jp+V/tlt7CRpwYIF2rx5szZs2OBRezuOodU+2mkce/furblz56pDhw769ddf9eSTT6pv377atm2bmjVrVqp9bY4fYcaLHA6H23vzvzdXPne5HXXs2FEdO3Z0vY+Li9OBAwf07LPP1rn/AZ5r6tSp2rp1q7766qtK29p1DD3to93GsWPHjtqyZYuOHTumhQsXaty4cUpLSyv3B99u42elf3YbuwMHDmj69OlasWKFAgICPN7OTmNYlT7aaRzj4+Nd/+7SpYvi4uLUtm1bvf3220pMTCxzm9oaP04zeUlkZKSysrLclmVnZ6tRo0ZlJtj6oE+fPtq9e3dtl1GhadOmafHixVq9erVatmxZYVu7jqGVPpalLo9j48aN1a5dO/Xq1UspKSnq1q2b/va3v5XZ1o7jZ6V/ZanLY7dp0yZlZ2erZ8+eatSokRo1aqS0tDT9/e9/V6NGjVRUVFRqG7uNYVX6WJa6PI5na9q0qbp06VJurbU5fhyZ8ZK4uDgtWbLEbdmKFSvUq1cv+fn51VJV1Ss9Pb1OHvaVfvuvgWnTpmnRokVKTU1VbGxspdvYbQyr0sey1OVxPJcxRgUFBWWus9v4laWi/pWlLo/d1VdfXerKlzvuuEOXXHKJHnjgAfn6+pbaxm5jWJU+lqUuj+PZCgoKtGPHDvXv37/M9bU6ftU+xdim8vLyTHp6uklPTzeSzPPPP2/S09PNjz/+aIwx5s9//rO5/fbbXe337t1rmjRpYu69916zfft288Ybbxg/Pz/zwQcf1FYXKmS1fy+88IJZtGiR2bVrl/n+++/Nn//8ZyPJLFy4sLa6UKHJkyeb0NBQk5qaapxOp+t14sQJVxu7j2FV+mincXzwwQfNmjVrTGZmptm6dat56KGHjI+Pj1mxYoUxxv7jZ7V/dhq78px7pY/dx7AslfXRTuN43333mdTUVLN3716zbt0684c//MEEBwebffv2GWPq1vgRZspRcvncua9x48YZY4wZN26cGThwoNs2qamp5rLLLjONGzc2bdq0MbNnz675wj1ktX+zZs0ybdu2NQEBAebCCy80/fr1M0uXLq2d4j1QVt8kmbfeesvVxu5jWJU+2mkcJ0yYYGJiYkzjxo1NixYtzNVXX+36oTfG/uNntX92GrvynPtDb/cxLEtlfbTTOI4ZM8ZERUUZPz8/Ex0dbUaOHGm2bdvmWl+Xxs9hzP/OzgEAALAhJgADAABbI8wAAABbI8wAAABbI8wAAABbI8wAAABbI8wAAABbI8wAAABbI8wAAABbI8wA9cTMmTPVvXt3r+83KytL11xzjZo2baoLLrjAo21SU1PlcDh07Ngxr9dTW77++mt16dJFfn5+GjFiRLV/3r59++RwOLRly5Zq/6ya4nA49NFHH9V2GaiHCDNo0NauXStfX18NHTq0tks5bzNmzNAXX3zh9f2+8MILcjqd2rJli3bt2uX1/dtFYmKiunfvrszMTM2ZM8er+x4/fnyNBCRJuv/++9WmTRvl5eW5LR82bJgGDBig4uLiavtsp9Op+Pj4ats/Gi7CDBq0N998U9OmTdNXX32l/fv313Y55yUoKEjNmjXz+n737Nmjnj17qn379goPD/f6/u1iz549uuqqq9SyZUuPj1Cd6/Tp094tqgqeeOIJBQUFKTEx0bXszTff1OrVq/XWW2/Jx6f6fhYiIyPl7+9fbftHA1YjT4AC6qDjx4+b4OBgs3PnTjNmzBiTnJxc6TYxMTHmiSeeMLfffrtp2rSpad26tfnoo49Mdna2uf76603Tpk1N586dzYYNG9y2+/rrr03//v1NQECAadmypZk2bZo5fvy4a/2//vUv07NnTxMUFGQiIiLMLbfcYn799VfX+pIHg37++eemZ8+eJjAw0MTFxZmdO3e62iQlJZlu3bq53o8bN84MHz7c/PWvfzWRkZEmLCzMJCQkmNOnT7va/PLLL+b3v/+9CQgIMG3atDHz5883MTEx5oUXXnD1V+c8iDQzM9NIMunp6a79HD161Egyq1evdqv36NGj5f4tJZnXXnvNjBgxwgQGBpp27dqZjz/+2LW+sLDQTJgwwbRp08YEBASYDh06mBdffNFtHyV9fOqpp0x4eLgJDQ01M2fONGfOnDEzZswwF154obnooovMG2+84bbdTz/9ZEaPHm0uuOACExYWZq6//nqTmZlZZp0l/VUZD/NMTU01l19+uWncuLGJjIw0DzzwgDlz5oxr24EDB5opU6aYe++91zRr1swMGDCg1P6TkpJK7X/16tWuz124cKEZNGiQCQwMNF27djVr1651276y71ZZNm7caPz8/Mynn35qfvzxRxMSEmJeeumlCrep7DuanJxsoqKizKFDh1zLhg0bZvr372+KioqMMb+N+aJFi4wxxhQUFJgpU6aYyMhI4+/vb2JiYszTTz9dYQ1AeQgzaLDeeOMN06tXL2OMMUuWLDFt2rQxxcXFFW4TExNjwsLCzMsvv2x27dplJk+ebIKDg83QoUPNe++9ZzIyMsyIESPM7373O9e+tm7daoKCgswLL7xgdu3aZb7++mtz2WWXmfHjx7vVsmzZMrNnzx7zzTffmD59+pj4+HjX+pJw0Lt3b5Oammq2bdtm+vfvb/r27etqU1aYCQkJMZMmTTI7duwwS5YsMU2aNDGvvvqqq83gwYNN9+7dzbp168ymTZvMwIEDTWBgoCvMZGdnm6FDh5rRo0cbp9Npjh075tUw07JlS/POO++Y3bt3m7vvvtsEBQWZw4cPG2OMOX36tHnsscfM+vXrzd69e828efNMkyZNzLvvvuvWx+DgYDNlyhSzc+dO88YbbxhJ5tprrzVPPfWU2bVrl3niiSeMn5+f2b9/vzHGmPz8fNO+fXszYcIEs3XrVrN9+3Zz6623mo4dO5qCgoJSdRYWFhqn02lCQkLMiy++aJxOpzlx4oT56aefTJMmTUxCQoLZsWOHWbRokWnevLlJSkpybTtw4EATFBRk/vSnP5mdO3eaHTt2lNp/Xl6eGT16tBk6dKhxOp3G6XSagoIC19/5kksuMZ988onJyMgwN954o4mJiXEFJk++W+V57LHHzEUXXWQGDBhgrr766kq/+5V9RwsLC01cXJwZMWKEMcaY2bNnm9DQULNv3z5Xm7PDzF//+lfTqlUrs2bNGrNv3z7z5ZdfmnfeeafSuoGyEGbQYPXt29f1X/pnzpwxzZs3NytXrqxwm5iYGDN27FjXe6fTaSSZRx991LXsm2++MZKM0+k0xhhz++23mz/+8Y9u+/nyyy+Nj4+POXnyZJmfs379eiPJ5OXlGWPcj8yUWLp0qZHk2kdZYSYmJsYUFha6lt10001mzJgxxhhjduzYYSS5HUXavXu3keQKM8YYM3z4cDNu3DjXe2+GmUceecT1/vjx48bhcJhPP/203G0SEhLMqFGjSvWx5L/8jTGmY8eOpn///q73hYWFpmnTpubf//63Mea3H+WOHTu6/XgXFBSYwMBA89lnn5X72aGhoa4jMsYY89BDD5Xaz0svvWSCgoJc9QwcONB079693H2e3Y/hw4e7LSv5O7/++uuuZdu2bTOSXKGoKt+tEqdPnzatWrUy/v7+5scff6y0xnOd+x01xpg9e/aY4OBg88ADD5gmTZqYefPmuW1zdpiZNm2aueqqqyoNUYAnmDODBikjI0Pr16/XzTffLElq1KiRxowZozfffLPSbbt27er6d0REhCSpS5cupZZlZ2dLkjZt2qQ5c+YoKCjI9br22mtVXFyszMxMSVJ6erqGDx+umJgYBQcHa9CgQZJUah7P2Z8dFRXl9jllufTSS+Xr6+u2TUn7jIwMNWrUSD169HCtb9eunS688MJK/wbecnZ/mjZtquDgYLf+vPzyy+rVq5datGihoKAgvfbaa6X+JpdeeqnbPI+IiAi38fD19VWzZs3cxuOHH35QcHCwazzCwsJ06tQp7dmzx+Pad+zYobi4ODkcDtey//qv/9Lx48f1008/uZb16tXL432WpaIx9+S7VZ6VK1fK6XTKGKMNGza4ls+fP99tf19++aUkz76jF198sZ599lnNmjVLw4YN02233Vbu548fP15btmxRx44ddffdd2vFihXW/jDAWRrVdgFAbXjjjTdUWFioiy66yLXMGCM/Pz8dPXq0wh90Pz8/179LfsjKWlZyVUhxcbHuuusu3X333aX21bp1a+Xn52vIkCEaMmSI5s2bpxYtWmj//v269tprS00YrehzKqu1ZJuS9saYMrcpb3mJkuBwdrszZ85UuE1V6nvvvfd077336rnnnlNcXJyCg4P117/+Vd9++22l+6hov8XFxerZs6fmz59fqp4WLVp4XLsxxi3IlCwr+bwSTZs29XifZTmf71Z5jh49qokTJ+qhhx6Sn5+fEhISNHDgQDVv3lzXX3+9evfu7Wp70UUXWfqOrlmzRr6+vtq3b58KCwvVqFHZPzM9evRQZmamPv30U33++ecaPXq0Bg8erA8++MDzPw7wvwgzaHAKCws1d+5cPffccxoyZIjbulGjRmn+/PmaOnWq1z6vR48e2rZtm9q1a1fm+u+++06HDh3SM888o1atWkmSNm7c6LXPL88ll1yiwsJCpaenq2fPnpKkH374odJ7w5T84DudTl122WWSVC33Qvnyyy/Vt29fJSQkuJZZOXJSnh49eujdd99VeHi4QkJCqryfTp06aeHChW6hZu3atQoODnYLyZ5o3LixioqKLNdQ2XerPNOmTVN4eLgeeeQR171fpk6dqgULFig4OFjBwcFu7Tdt2uTRd/Tdd9/Vhx9+qNTUVI0ZM0ZPPPGEkpOTy60jJCREY8aM0ZgxY3TjjTdq6NChOnLkiMLCwiz1B+A0ExqcTz75REePHtWdd96pzp07u71uvPFGvfHGG179vAceeEDffPONpkyZoi1btmj37t1avHixpk2bJum3/4Ju3Lix/ud//kd79+7V4sWL9cQTT3i1hrJccsklGjx4sP74xz9q/fr1Sk9P1x//+EcFBgaWOuJwtsDAQPXp00fPPPOMtm/frjVr1uiRRx7xen3t2rXTxo0b9dlnn2nXrl169NFH3U6HVNVtt92m5s2ba/jw4fryyy+VmZmptLQ0TZ8+3e30UGUSEhJ04MABTZs2TTt37tTHH3+spKQkJSYmWr68uU2bNtq6dasyMjJ06NAhj490VfbdKsuiRYv0/vvv6+2335afn58aNWqkOXPmaNGiRVq4cGGZ23jyHf3pp580efJkzZo1S/369dOcOXOUkpKidevWlbnPF154QQsWLNDOnTu1a9cuvf/++4qMjKzyZe9o2AgzaHDeeOMNDR48WKGhoaXWjRo1Slu2bNHmzZu99nldu3ZVWlqadu/erf79++uyyy7To48+6pr/0KJFC82ZM0fvv/++OnXqpGeeeUbPPvus1z6/InPnzlVERIQGDBigG264QRMnTlRwcLACAgIq3O7NN9/UmTNn1KtXL02fPl1PPvmk12ubNGmSRo4cqTFjxqh37946fPiw21GaqmrSpInWrFmj1q1ba+TIkfrd736nCRMm6OTJk5aO1Fx00UVatmyZ1q9fr27dumnSpEm68847qxTsJk6cqI4dO7rmB3399dcebVfZd+tchw4d0qRJk5SUlOQ2F6dz585KSkpSQkKCDh06VGq7yr6jxhiNHz9eV1xxheuo5jXXXKOpU6dq7NixOn78eKl9BgUFadasWerVq5cuv/xy7du3T8uWLavW+9yg/nKYyk6QA2gwfvrpJ7Vq1Uqff/65rr766touBwA8QpgBGrBVq1bp+PHj6tKli5xOp+6//379/PPP2rVrV6lJtABQVzEBGGjAzpw5o4ceekh79+5VcHCw+vbtq/nz5xNkANgKR2YAAICtMdMKAADYGmEGAADYGmEGAADYGmEGAADYGmEGAADYGmEGAADYGmEGAADYGmEGAADY2v8H/9eMLMmH3QsAAAAASUVORK5CYII=",
      "text/plain": [
       "<Figure size 640x480 with 1 Axes>"
      ]
     },
     "metadata": {},
     "output_type": "display_data"
    }
   ],
   "source": [
    "plt.scatter(x = list_numbers, y = list_numbers_sqr)\n",
    "plt.xlabel(\"A meaningful name for the X-axis\")\n",
    "plt.ylabel(\"Favourite name for Y-axis\")\n",
    "plt.show()"
   ]
  },
  {
   "cell_type": "code",
   "execution_count": 22,
   "metadata": {},
   "outputs": [
    {
     "data": {
      "image/png": "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",
      "text/plain": [
       "<Figure size 640x480 with 1 Axes>"
      ]
     },
     "metadata": {},
     "output_type": "display_data"
    }
   ],
   "source": [
    "# Create a list with numbers, then create your own scatter plot\n",
    "\n",
    "list_x = [1, 2, 3, 4]\n",
    "list_xsquared = [2, 4, 9, 16]\n",
    "plt.scatter(x = list_x, y = list_xsquared)\n",
    "plt.xlabel(\"Values\")\n",
    "plt.ylabel(\"Values Squared\")\n",
    "plt.show()\n"
   ]
  },
  {
   "attachments": {},
   "cell_type": "markdown",
   "metadata": {},
   "source": [
    "# <span style=\"color:darkblue\"> Additional Resources </span>\n",
    "\n",
    "<font size=\"5\"> \n",
    "\n",
    "Check out additional examples at:\n",
    "\n",
    "- https://allendowney.github.io/ElementsOfDataScience/01_variables.html\n",
    "- https://allendowney.github.io/ElementsOfDataScience/03_arrays.html\n",
    "\n"
   ]
  },
  {
   "attachments": {},
   "cell_type": "markdown",
   "metadata": {},
   "source": [
    "# <span style=\"color:darkblue\"> (Optional) Common Pitfalls </span>\n",
    "\n",
    "<font size=\"5\"> \n",
    "\n",
    "It's very common to enter a command incorrectly\n",
    "- There will be an arrow pointing to the problematic line\n",
    "- Focus on the message following \"NameError\""
   ]
  },
  {
   "attachments": {},
   "cell_type": "markdown",
   "metadata": {},
   "source": [
    "<font size=\"5\"> \n",
    "\n",
    "Pro Tip:\n",
    "- Type in google the message for \"NameError\" plus the word Python\n",
    "- Somebody may have a solution/explanation!"
   ]
  },
  {
   "attachments": {},
   "cell_type": "markdown",
   "metadata": {},
   "source": [
    "<font size=\"5\"> \n",
    "\n",
    "Example 1: Not including quotations"
   ]
  },
  {
   "cell_type": "code",
<<<<<<< Updated upstream
   "execution_count": 59,
   "metadata": {},
   "outputs": [],
   "source": [
    "hello = 'hello'"
   ]
  },
  {
   "cell_type": "code",
   "execution_count": 62,
=======
   "execution_count": 2,
>>>>>>> Stashed changes
   "metadata": {},
   "outputs": [
    {
     "ename": "NameError",
     "evalue": "name 'hellos' is not defined",
     "output_type": "error",
     "traceback": [
<<<<<<< Updated upstream
      "\u001b[1;31m---------------------------------------------------------------------------\u001b[0m",
      "\u001b[1;31mNameError\u001b[0m                                 Traceback (most recent call last)",
      "Cell \u001b[1;32mIn[62], line 3\u001b[0m\n\u001b[0;32m      1\u001b[0m \u001b[39m# When you don't include quotation marks,\u001b[39;00m\n\u001b[0;32m      2\u001b[0m \u001b[39m# Python will try to search for a variable called Hello\u001b[39;00m\n\u001b[1;32m----> 3\u001b[0m \u001b[39mtype\u001b[39m(hellos)\n",
      "\u001b[1;31mNameError\u001b[0m: name 'hellos' is not defined"
=======
      "\u001b[0;31m---------------------------------------------------------------------------\u001b[0m",
      "\u001b[0;31mNameError\u001b[0m                                 Traceback (most recent call last)",
      "Cell \u001b[0;32mIn[2], line 3\u001b[0m\n\u001b[1;32m      1\u001b[0m \u001b[39m# When you don't include quotation marks,\u001b[39;00m\n\u001b[1;32m      2\u001b[0m \u001b[39m# Python will try to search for a variable called Hello\u001b[39;00m\n\u001b[0;32m----> 3\u001b[0m \u001b[39mtype\u001b[39m(hello)\n",
      "\u001b[0;31mNameError\u001b[0m: name 'hello' is not defined"
>>>>>>> Stashed changes
     ]
    }
   ],
   "source": [
    "# When you don't include quotation marks,\n",
    "# Python will try to search for a variable called Hello\n",
    "type(hellos)"
   ]
  },
  {
   "cell_type": "code",
<<<<<<< Updated upstream
   "execution_count": 48,
   "metadata": {},
   "outputs": [
    {
     "data": {
      "text/plain": [
       "str"
      ]
     },
     "execution_count": 48,
     "metadata": {},
     "output_type": "execute_result"
=======
   "execution_count": 3,
   "metadata": {},
   "outputs": [
    {
     "ename": "NameError",
     "evalue": "name 'message_hello' is not defined",
     "output_type": "error",
     "traceback": [
      "\u001b[0;31m---------------------------------------------------------------------------\u001b[0m",
      "\u001b[0;31mNameError\u001b[0m                                 Traceback (most recent call last)",
      "Cell \u001b[0;32mIn[3], line 2\u001b[0m\n\u001b[1;32m      1\u001b[0m \u001b[39m# This commands works if we already defined a variable, e.g.\u001b[39;00m\n\u001b[0;32m----> 2\u001b[0m \u001b[39mtype\u001b[39m(message_hello)\n",
      "\u001b[0;31mNameError\u001b[0m: name 'message_hello' is not defined"
     ]
>>>>>>> Stashed changes
    }
   ],
   "source": [
    "# This commands works if we already defined a variable, e.g.\n",
    "type(message_hello)"
   ]
  },
  {
   "attachments": {},
   "cell_type": "markdown",
   "metadata": {},
   "source": [
    "<font size=\"5\"> \n",
    "\n",
    "Examples 2: Operations with mixed types don't work"
   ]
  },
  {
   "cell_type": "code",
   "execution_count": 63,
   "metadata": {},
   "outputs": [
    {
     "name": "stdout",
     "output_type": "stream",
     "text": [
      "hola3\n"
     ]
    }
   ],
   "source": [
    "# If you add a number and a string you get a concatenated string\n",
    "print(\"hola\" + str(number3))"
   ]
  },
  {
   "cell_type": "code",
   "execution_count": null,
   "metadata": {},
   "outputs": [
    {
     "name": "stdout",
     "output_type": "stream",
     "text": [
      "hola3\n"
     ]
    }
   ],
   "source": [
    "# You can convert an integer to string first\n",
    "print(\"hola\" + str(number3))"
   ]
  },
  {
   "attachments": {},
   "cell_type": "markdown",
   "metadata": {},
   "source": [
    "<font size=\"5\"> \n",
    "\n",
    "Examples 3: Not all mathematical operations on numeric lists work\n",
    "\n",
    "- We need a different object: arrays!\n",
    "- We'll look into this in future classes"
   ]
  },
  {
   "cell_type": "code",
   "execution_count": 66,
   "metadata": {},
   "outputs": [
    {
     "data": {
      "text/plain": [
       "[1, 2, 3, 4, 5, 2]"
      ]
     },
     "execution_count": 66,
     "metadata": {},
     "output_type": "execute_result"
    }
   ],
   "source": [
    "list(list_numbers) + [2]"
   ]
  }
 ],
 "metadata": {
  "kernelspec": {
   "display_name": "Python 3",
   "language": "python",
   "name": "python3"
  },
  "language_info": {
   "codemirror_mode": {
    "name": "ipython",
    "version": 3
   },
   "file_extension": ".py",
   "mimetype": "text/x-python",
   "name": "python",
   "nbconvert_exporter": "python",
   "pygments_lexer": "ipython3",
   "version": "3.11.4"
  },
  "orig_nbformat": 4,
  "vscode": {
   "interpreter": {
    "hash": "aee8b7b246df8f9039afb4144a1f6fd8d2ca17a180786b69acc140d282b71a49"
   }
  }
 },
 "nbformat": 4,
 "nbformat_minor": 2
}
