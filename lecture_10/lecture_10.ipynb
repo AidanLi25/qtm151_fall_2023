{
 "cells": [
  {
   "attachments": {},
   "cell_type": "markdown",
   "metadata": {},
   "source": [
    "# <span style=\"color:darkblue\"> Lecture 10: Application 1 - Linear Regression </span>\n",
    "\n",
    "<font size = \"5\">\n",
    "\n",
    "We will fit statistical models to data\n",
    "\n",
    "- I will give an intro with minimal stats background\n",
    "- See the optional lecture file for advanced users\n",
    "\n",
    "The primary goal is to practice previous commands"
   ]
  },
  {
   "attachments": {},
   "cell_type": "markdown",
   "metadata": {},
   "source": [
    "# <span style=\"color:darkblue\"> I. Import Libraries </span>\n"
   ]
  },
  {
   "cell_type": "code",
<<<<<<< HEAD
   "execution_count": 2,
=======
   "execution_count": 3,
>>>>>>> upstream/main
   "metadata": {},
   "outputs": [],
   "source": [
    "# The \"pandas\" library is used for processing datasets\n",
    "# The \"numpy\" is for numeric observations and random numbers\n",
    "# The \"matplotlib.pyplot\" library is for creating graphs\n",
    "\n",
    "import pandas as pd\n",
    "import numpy as np\n",
    "import matplotlib.pyplot as plt\n"
   ]
  },
  {
   "attachments": {},
   "cell_type": "markdown",
   "metadata": {},
   "source": [
    "<font size = \"5\">\n",
    "\n",
    "Install the \"statsmodels\" library\n",
    "\n",
    "```conda activate qtm151```\n",
    "\n",
    "```conda install statsmodels```"
   ]
  },
  {
   "cell_type": "code",
   "execution_count": 1,
   "metadata": {},
   "outputs": [],
   "source": [
    "# We will \"alias\" two sublibraries in \"statsmodels\"\n",
    "# \"statsmodels.formula.api\" contains functions to estimate models\n",
    "# \"statsmodels.api\" contains general-use statistical options\n",
    "\n",
    "import statsmodels.api as sm\n",
    "import statsmodels.formula.api as smf\n"
   ]
  },
  {
   "attachments": {},
   "cell_type": "markdown",
   "metadata": {},
   "source": [
    "# <span style=\"color:darkblue\"> II. Generate simulated Data </span>\n",
    "\n",
    "<font size = \"5\">\n",
    "\n",
    "Create an empty dataset"
   ]
  },
  {
   "cell_type": "code",
<<<<<<< HEAD
   "execution_count": 3,
=======
   "execution_count": 4,
>>>>>>> upstream/main
   "metadata": {},
   "outputs": [],
   "source": [
    "dataset = pd.DataFrame()"
   ]
  },
  {
   "attachments": {},
   "cell_type": "markdown",
   "metadata": {},
   "source": [
    "<font size = \"5\">\n",
    "\n",
    "Create two random variables of size ($n = 50$)"
   ]
  },
  {
   "cell_type": "code",
<<<<<<< HEAD
   "execution_count": 4,
=======
   "execution_count": 8,
>>>>>>> upstream/main
   "metadata": {},
   "outputs": [],
   "source": [
    "n = 50\n",
    "np.random.seed(42)\n",
    "dataset[\"x\"] = np.random.normal(loc = 0,scale = 1, size = n)\n",
    "dataset[\"e\"] = np.random.normal(loc = 0,scale = 1, size = n)"
   ]
  },
  {
   "attachments": {},
   "cell_type": "markdown",
   "metadata": {},
   "source": [
    "<font size = \"5\">\n",
    "\n",
    "Create data from the linear model\n",
    "\n",
    "$ y = b_0 + b_1 x + e, \\qquad b_0 = 1, b_1 = 2.$"
   ]
  },
  {
   "cell_type": "code",
<<<<<<< HEAD
   "execution_count": 5,
=======
   "execution_count": 10,
>>>>>>> upstream/main
   "metadata": {},
   "outputs": [],
   "source": [
    "# The number b0 is known as the \"intercept\"\n",
    "# The number b1 is known as the \"slope\"\n",
    "\n",
    "b0 = 1\n",
    "b1 = 2\n",
    "\n",
    "# We can compute formulas directly over dataset columns\n",
    "dataset[\"y\"] = b0 + b1 * dataset[\"x\"] + dataset[\"e\"]"
   ]
  },
  {
   "cell_type": "code",
   "execution_count": 46,
   "metadata": {},
   "outputs": [
    {
     "data": {
      "text/plain": [
       "0     2.317512\n",
       "1     0.338389\n",
       "2     1.618455\n",
       "3     4.657736\n",
       "4     1.562693\n",
       "5     1.463006\n",
       "6     3.319208\n",
       "7     2.225657\n",
       "8     0.392315\n",
       "9     3.060665\n",
       "10   -0.406010\n",
       "11   -0.117118\n",
       "12    0.377590\n",
       "13   -4.022767\n",
       "14   -1.637310\n",
       "15    1.231665\n",
       "16   -1.097672\n",
       "17    2.632028\n",
       "18   -0.454412\n",
       "19   -2.469727\n",
       "20    4.292693\n",
       "21    2.086484\n",
       "22    1.099230\n",
       "23   -0.284853\n",
       "24   -2.708511\n",
       "25    2.043748\n",
       "26   -1.214940\n",
       "27    1.452389\n",
       "28   -0.109517\n",
       "29   -1.570956\n",
       "30   -0.423085\n",
       "31    5.061669\n",
       "32    2.450900\n",
       "33   -1.633692\n",
       "34    1.836596\n",
       "35   -1.943444\n",
       "36    2.333129\n",
       "37   -2.590589\n",
       "38   -2.186132\n",
       "39    1.906990\n",
       "40    2.574011\n",
       "41    2.311382\n",
       "42    0.066650\n",
       "43    0.070130\n",
       "44   -2.349152\n",
       "45   -1.903203\n",
       "46    0.374843\n",
       "47    3.375300\n",
       "48    1.692350\n",
       "49   -2.760667\n",
       "Name: y, dtype: float64"
      ]
     },
     "execution_count": 46,
     "metadata": {},
     "output_type": "execute_result"
    }
   ],
   "source": [
    "dataset['y']"
   ]
  },
  {
   "attachments": {},
   "cell_type": "markdown",
   "metadata": {},
   "source": [
    "<font size = \"5\">\n",
    "\n",
    "Compute the theoretically best fit line\n",
    "\n",
    "$ p = b_0 + b_1 x$"
   ]
  },
  {
   "cell_type": "code",
<<<<<<< HEAD
   "execution_count": 6,
=======
   "execution_count": 12,
>>>>>>> upstream/main
   "metadata": {},
   "outputs": [],
   "source": [
    "dataset[\"p\"] = b0 + b1*dataset[\"x\"]"
   ]
  },
  {
   "attachments": {},
   "cell_type": "markdown",
   "metadata": {},
   "source": [
    "<font size = \"5\">\n",
    "\n",
    "Plot the data"
   ]
  },
  {
   "cell_type": "code",
<<<<<<< HEAD
   "execution_count": 8,
=======
   "execution_count": 15,
>>>>>>> upstream/main
   "metadata": {},
   "outputs": [
    {
     "data": {
      "image/png": "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",
      "text/plain": [
       "<Figure size 640x480 with 1 Axes>"
      ]
     },
     "metadata": {},
     "output_type": "display_data"
    }
   ],
   "source": [
    "plt.scatter(x = dataset[\"x\"], y = dataset[\"y\"])\n",
    "plt.plot(dataset[\"x\"],dataset[\"p\"], color = 'green')\n",
    "\n",
    "plt.xlabel(\"X Variable\")\n",
    "plt.ylabel(\"Y Variable\")\n",
    "plt.legend(labels = [\"Data points\", \"Best fit line\"])\n",
    "plt.show()\n"
   ]
  },
  {
   "attachments": {},
   "cell_type": "markdown",
   "metadata": {},
   "source": [
    "<font size = \"5\" >\n",
    "\n",
    "Try it yourself\n",
    "\n",
    "- Create a new dataset called $\\quad$```subset_above2``` \n",
    "- Subset records with $y \\ge 2$ using $\\quad$```.query()```\n",
    "- Count the original rows $\\quad$ ```len(dataset)```\n",
    "- Count the subsetted rows $\\quad$ ```len(subset_above2)```\n",
    "- Compute the proportion of subsetted observations\n"
   ]
  },
  {
   "cell_type": "code",
<<<<<<< HEAD
   "execution_count": 10,
=======
   "execution_count": 20,
>>>>>>> upstream/main
   "metadata": {},
   "outputs": [
    {
     "name": "stdout",
     "output_type": "stream",
     "text": [
      "50\n",
      "15\n",
      "0.3\n"
     ]
    }
   ],
   "source": [
    "# Write your own code here\n",
<<<<<<< HEAD
    "subset_above2 = dataset.query(\"y>=2\")\n",
    "print(len(dataset))\n",
    "print(len(subset_above2))\n",
    "print(len(subset_above2)/len(dataset))"
=======
    "subset_above = dataset.query('y>=2')\n",
    "print(len(dataset))\n",
    "print(len(subset_above))\n",
    "print(len(subset_above)/len(dataset))"
>>>>>>> upstream/main
   ]
  },
  {
   "attachments": {},
   "cell_type": "markdown",
   "metadata": {},
   "source": [
    "<font size = \"5\">\n",
    "\n",
    "Try it yourself!\n",
    "\n",
    "- Store the sample mean of $y$ as $\\quad$ ```ybar```\n",
    "- Compute the standard deviation of $y$ $\\quad$ ```stdv_sample```\n",
    "- Use ```.query()``` to subset observations that satisfy\n",
    "\n",
    "$ \\qquad abs\\left(y - ybar \\right) \\le stdv\\_sample $\n",
    "\n",
    "$\\quad$ HINT: Use ```.mean()```,$\\text{ }$ ```.std()``` <br>\n",
    "$\\quad$ HINT: Use the globals  $\\ $ ```@xbar```,$\\text{ }$ ```@stdv_sample```"
   ]
  },
  {
   "cell_type": "code",
<<<<<<< HEAD
   "execution_count": 14,
=======
   "execution_count": 27,
>>>>>>> upstream/main
   "metadata": {},
   "outputs": [
    {
     "data": {
      "text/html": [
       "<div>\n",
       "<style scoped>\n",
       "    .dataframe tbody tr th:only-of-type {\n",
       "        vertical-align: middle;\n",
       "    }\n",
       "\n",
       "    .dataframe tbody tr th {\n",
       "        vertical-align: top;\n",
       "    }\n",
       "\n",
       "    .dataframe thead th {\n",
       "        text-align: right;\n",
       "    }\n",
       "</style>\n",
       "<table border=\"1\" class=\"dataframe\">\n",
       "  <thead>\n",
       "    <tr style=\"text-align: right;\">\n",
       "      <th></th>\n",
       "      <th>x</th>\n",
       "      <th>e</th>\n",
       "      <th>y</th>\n",
       "      <th>p</th>\n",
       "    </tr>\n",
       "  </thead>\n",
       "  <tbody>\n",
       "    <tr>\n",
       "      <th>0</th>\n",
       "      <td>0.496714</td>\n",
       "      <td>0.324084</td>\n",
       "      <td>2.317512</td>\n",
       "      <td>1.993428</td>\n",
       "    </tr>\n",
       "    <tr>\n",
       "      <th>1</th>\n",
       "      <td>-0.138264</td>\n",
       "      <td>-0.385082</td>\n",
       "      <td>0.338389</td>\n",
       "      <td>0.723471</td>\n",
       "    </tr>\n",
       "    <tr>\n",
       "      <th>2</th>\n",
       "      <td>0.647689</td>\n",
       "      <td>-0.676922</td>\n",
       "      <td>1.618455</td>\n",
       "      <td>2.295377</td>\n",
       "    </tr>\n",
       "    <tr>\n",
       "      <th>4</th>\n",
       "      <td>-0.234153</td>\n",
       "      <td>1.031000</td>\n",
       "      <td>1.562693</td>\n",
       "      <td>0.531693</td>\n",
       "    </tr>\n",
       "    <tr>\n",
       "      <th>5</th>\n",
       "      <td>-0.234137</td>\n",
       "      <td>0.931280</td>\n",
       "      <td>1.463006</td>\n",
       "      <td>0.531726</td>\n",
       "    </tr>\n",
       "    <tr>\n",
       "      <th>7</th>\n",
       "      <td>0.767435</td>\n",
       "      <td>-0.309212</td>\n",
       "      <td>2.225657</td>\n",
       "      <td>2.534869</td>\n",
       "    </tr>\n",
       "    <tr>\n",
       "      <th>8</th>\n",
       "      <td>-0.469474</td>\n",
       "      <td>0.331263</td>\n",
       "      <td>0.392315</td>\n",
       "      <td>0.061051</td>\n",
       "    </tr>\n",
       "    <tr>\n",
       "      <th>10</th>\n",
       "      <td>-0.463418</td>\n",
       "      <td>-0.479174</td>\n",
       "      <td>-0.406010</td>\n",
       "      <td>0.073165</td>\n",
       "    </tr>\n",
       "    <tr>\n",
       "      <th>11</th>\n",
       "      <td>-0.465730</td>\n",
       "      <td>-0.185659</td>\n",
       "      <td>-0.117118</td>\n",
       "      <td>0.068540</td>\n",
       "    </tr>\n",
       "    <tr>\n",
       "      <th>12</th>\n",
       "      <td>0.241962</td>\n",
       "      <td>-1.106335</td>\n",
       "      <td>0.377590</td>\n",
       "      <td>1.483925</td>\n",
       "    </tr>\n",
       "    <tr>\n",
       "      <th>15</th>\n",
       "      <td>-0.562288</td>\n",
       "      <td>1.356240</td>\n",
       "      <td>1.231665</td>\n",
       "      <td>-0.124575</td>\n",
       "    </tr>\n",
       "    <tr>\n",
       "      <th>16</th>\n",
       "      <td>-1.012831</td>\n",
       "      <td>-0.072010</td>\n",
       "      <td>-1.097672</td>\n",
       "      <td>-1.025662</td>\n",
       "    </tr>\n",
       "    <tr>\n",
       "      <th>17</th>\n",
       "      <td>0.314247</td>\n",
       "      <td>1.003533</td>\n",
       "      <td>2.632028</td>\n",
       "      <td>1.628495</td>\n",
       "    </tr>\n",
       "    <tr>\n",
       "      <th>18</th>\n",
       "      <td>-0.908024</td>\n",
       "      <td>0.361636</td>\n",
       "      <td>-0.454412</td>\n",
       "      <td>-0.816048</td>\n",
       "    </tr>\n",
       "    <tr>\n",
       "      <th>21</th>\n",
       "      <td>-0.225776</td>\n",
       "      <td>1.538037</td>\n",
       "      <td>2.086484</td>\n",
       "      <td>0.548447</td>\n",
       "    </tr>\n",
       "    <tr>\n",
       "      <th>22</th>\n",
       "      <td>0.067528</td>\n",
       "      <td>-0.035826</td>\n",
       "      <td>1.099230</td>\n",
       "      <td>1.135056</td>\n",
       "    </tr>\n",
       "    <tr>\n",
       "      <th>23</th>\n",
       "      <td>-1.424748</td>\n",
       "      <td>1.564644</td>\n",
       "      <td>-0.284853</td>\n",
       "      <td>-1.849496</td>\n",
       "    </tr>\n",
       "    <tr>\n",
       "      <th>25</th>\n",
       "      <td>0.110923</td>\n",
       "      <td>0.821903</td>\n",
       "      <td>2.043748</td>\n",
       "      <td>1.221845</td>\n",
       "    </tr>\n",
       "    <tr>\n",
       "      <th>26</th>\n",
       "      <td>-1.150994</td>\n",
       "      <td>0.087047</td>\n",
       "      <td>-1.214940</td>\n",
       "      <td>-1.301987</td>\n",
       "    </tr>\n",
       "    <tr>\n",
       "      <th>27</th>\n",
       "      <td>0.375698</td>\n",
       "      <td>-0.299007</td>\n",
       "      <td>1.452389</td>\n",
       "      <td>1.751396</td>\n",
       "    </tr>\n",
       "    <tr>\n",
       "      <th>28</th>\n",
       "      <td>-0.600639</td>\n",
       "      <td>0.091761</td>\n",
       "      <td>-0.109517</td>\n",
       "      <td>-0.201277</td>\n",
       "    </tr>\n",
       "    <tr>\n",
       "      <th>29</th>\n",
       "      <td>-0.291694</td>\n",
       "      <td>-1.987569</td>\n",
       "      <td>-1.570956</td>\n",
       "      <td>0.416613</td>\n",
       "    </tr>\n",
       "    <tr>\n",
       "      <th>30</th>\n",
       "      <td>-0.601707</td>\n",
       "      <td>-0.219672</td>\n",
       "      <td>-0.423085</td>\n",
       "      <td>-0.203413</td>\n",
       "    </tr>\n",
       "    <tr>\n",
       "      <th>32</th>\n",
       "      <td>-0.013497</td>\n",
       "      <td>1.477894</td>\n",
       "      <td>2.450900</td>\n",
       "      <td>0.973006</td>\n",
       "    </tr>\n",
       "    <tr>\n",
       "      <th>34</th>\n",
       "      <td>0.822545</td>\n",
       "      <td>-0.808494</td>\n",
       "      <td>1.836596</td>\n",
       "      <td>2.645090</td>\n",
       "    </tr>\n",
       "    <tr>\n",
       "      <th>36</th>\n",
       "      <td>0.208864</td>\n",
       "      <td>0.915402</td>\n",
       "      <td>2.333129</td>\n",
       "      <td>1.417727</td>\n",
       "    </tr>\n",
       "    <tr>\n",
       "      <th>39</th>\n",
       "      <td>0.196861</td>\n",
       "      <td>0.513267</td>\n",
       "      <td>1.906990</td>\n",
       "      <td>1.393722</td>\n",
       "    </tr>\n",
       "    <tr>\n",
       "      <th>40</th>\n",
       "      <td>0.738467</td>\n",
       "      <td>0.097078</td>\n",
       "      <td>2.574011</td>\n",
       "      <td>2.476933</td>\n",
       "    </tr>\n",
       "    <tr>\n",
       "      <th>41</th>\n",
       "      <td>0.171368</td>\n",
       "      <td>0.968645</td>\n",
       "      <td>2.311382</td>\n",
       "      <td>1.342737</td>\n",
       "    </tr>\n",
       "    <tr>\n",
       "      <th>42</th>\n",
       "      <td>-0.115648</td>\n",
       "      <td>-0.702053</td>\n",
       "      <td>0.066650</td>\n",
       "      <td>0.768703</td>\n",
       "    </tr>\n",
       "    <tr>\n",
       "      <th>43</th>\n",
       "      <td>-0.301104</td>\n",
       "      <td>-0.327662</td>\n",
       "      <td>0.070130</td>\n",
       "      <td>0.397793</td>\n",
       "    </tr>\n",
       "    <tr>\n",
       "      <th>46</th>\n",
       "      <td>-0.460639</td>\n",
       "      <td>0.296120</td>\n",
       "      <td>0.374843</td>\n",
       "      <td>0.078722</td>\n",
       "    </tr>\n",
       "    <tr>\n",
       "      <th>48</th>\n",
       "      <td>0.343618</td>\n",
       "      <td>0.005113</td>\n",
       "      <td>1.692350</td>\n",
       "      <td>1.687237</td>\n",
       "    </tr>\n",
       "  </tbody>\n",
       "</table>\n",
       "</div>"
      ],
      "text/plain": [
       "           x         e         y         p\n",
       "0   0.496714  0.324084  2.317512  1.993428\n",
       "1  -0.138264 -0.385082  0.338389  0.723471\n",
       "2   0.647689 -0.676922  1.618455  2.295377\n",
       "4  -0.234153  1.031000  1.562693  0.531693\n",
       "5  -0.234137  0.931280  1.463006  0.531726\n",
       "7   0.767435 -0.309212  2.225657  2.534869\n",
       "8  -0.469474  0.331263  0.392315  0.061051\n",
       "10 -0.463418 -0.479174 -0.406010  0.073165\n",
       "11 -0.465730 -0.185659 -0.117118  0.068540\n",
       "12  0.241962 -1.106335  0.377590  1.483925\n",
       "15 -0.562288  1.356240  1.231665 -0.124575\n",
       "16 -1.012831 -0.072010 -1.097672 -1.025662\n",
       "17  0.314247  1.003533  2.632028  1.628495\n",
       "18 -0.908024  0.361636 -0.454412 -0.816048\n",
       "21 -0.225776  1.538037  2.086484  0.548447\n",
       "22  0.067528 -0.035826  1.099230  1.135056\n",
       "23 -1.424748  1.564644 -0.284853 -1.849496\n",
       "25  0.110923  0.821903  2.043748  1.221845\n",
       "26 -1.150994  0.087047 -1.214940 -1.301987\n",
       "27  0.375698 -0.299007  1.452389  1.751396\n",
       "28 -0.600639  0.091761 -0.109517 -0.201277\n",
       "29 -0.291694 -1.987569 -1.570956  0.416613\n",
       "30 -0.601707 -0.219672 -0.423085 -0.203413\n",
       "32 -0.013497  1.477894  2.450900  0.973006\n",
       "34  0.822545 -0.808494  1.836596  2.645090\n",
       "36  0.208864  0.915402  2.333129  1.417727\n",
       "39  0.196861  0.513267  1.906990  1.393722\n",
       "40  0.738467  0.097078  2.574011  2.476933\n",
       "41  0.171368  0.968645  2.311382  1.342737\n",
       "42 -0.115648 -0.702053  0.066650  0.768703\n",
       "43 -0.301104 -0.327662  0.070130  0.397793\n",
       "46 -0.460639  0.296120  0.374843  0.078722\n",
       "48  0.343618  0.005113  1.692350  1.687237"
      ]
     },
     "execution_count": 14,
     "metadata": {},
     "output_type": "execute_result"
    }
   ],
   "source": [
    "# Note: abs(...) is the absolute value function\n",
    "# Write your own code \n",
<<<<<<< HEAD
    "ybar = dataset[\"y\"].mean()\n",
    "stdv_sample = dataset[\"y\"].std()\n",
    "\n",
    "dataset.query(\"abs(y-@ybar)<= @stdv_sample\")"
=======
    "ybar = dataset['y'].mean()\n",
    "stdv_sample = dataset['y'].std()\n",
    "\n",
    "#dataset.query('abs(y-@ybar)<= @stdv_sample')"
>>>>>>> upstream/main
   ]
  },
  {
   "attachments": {},
   "cell_type": "markdown",
   "metadata": {},
   "source": [
    "# <span style=\"color:darkblue\"> II. Estimate the best fit line</span>\n"
   ]
  },
  {
   "attachments": {},
   "cell_type": "markdown",
   "metadata": {},
   "source": [
    "<font size = \"5\">\n",
    "\n",
    "We have data on $(y,x)$ but we don't know $(b_0,b_1, e)$"
   ]
  },
  {
   "attachments": {},
   "cell_type": "markdown",
   "metadata": {},
   "source": [
    "<font size = \"5\">\n",
    "\n",
    "Let's fit an OLS model\n",
    "\n",
    "- It's a statistical approach to get $(b_0,b_1)$\n",
    "- No need to know how it works but why we want it"
   ]
  },
  {
   "cell_type": "code",
<<<<<<< HEAD
   "execution_count": 15,
=======
   "execution_count": 36,
>>>>>>> upstream/main
   "metadata": {},
   "outputs": [],
   "source": [
    "#------------------------------------------------------------------------------#\n",
    "# We use the subfunction \"ols()\" in the library \"smf\"\n",
    "#---- (i) The first argument is a string called \"formula\" with the format \n",
    "#-------- \"outcome ~ indepdent_vars\"\n",
    "#----(ii) the second argument is the dataset\n",
    "# The second line fits the model with standard errors \"cov\". In this case we \n",
    "# use \"robust\" standard errors (HC1)\n",
    "#-------------------------------------------------------------------------------#\n",
    "\n",
    "model = smf.ols(formula = 'y ~  x', data = dataset)\n",
    "results = model.fit()\n",
    "\n",
    "# Can also run as one line\n",
    "# results = smf.ols(formula = 'y ~ x',data = dataset).fit(cov = \"HC1\")\n"
   ]
  },
  {
   "attachments": {},
   "cell_type": "markdown",
   "metadata": {},
   "source": [
    "<font size = \"5\">\n",
    "\n",
    "Compute the estimated best fit line"
   ]
  },
  {
   "cell_type": "code",
<<<<<<< HEAD
   "execution_count": 16,
=======
   "execution_count": 44,
>>>>>>> upstream/main
   "metadata": {},
   "outputs": [
    {
     "name": "stdout",
     "output_type": "stream",
     "text": [
      "Intercept    1.041022\n",
      "x            2.103076\n",
      "dtype: float64\n"
     ]
    }
   ],
   "source": [
    "# We will use \".params\" to get the attribute \"parameters from the results\"\n",
    "\n",
    "b_list = results.params\n",
    "print(b_list)\n",
    "\n",
    "# We can then compute the \"estimated\" best fit lines\n",
    "# by extracting the intercept and slop from \"b_list\"\n",
    "\n",
    "dataset[\"p_estimated\"] = b_list[0] + b_list[1]  * dataset[\"x\"]\n",
    "\n",
    "# Note: The estimators for \"b0\" and \"b1\" are close to \n",
    "# the values we used to generate the data\n"
   ]
  },
  {
   "attachments": {},
   "cell_type": "markdown",
   "metadata": {},
   "source": [
    "<font size = \"5\">\n",
    "\n",
    "Plot the best fit line"
   ]
  },
  {
   "cell_type": "code",
   "execution_count": 17,
   "metadata": {},
   "outputs": [
    {
     "data": {
      "image/png": "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",
      "text/plain": [
       "<Figure size 640x480 with 1 Axes>"
      ]
     },
     "metadata": {},
     "output_type": "display_data"
    }
   ],
   "source": [
    "# Use scatter twice, with different \"y\" inputs\n",
    "# THe \"legend\" command creates a box on with the color labels\n",
    "\n",
    "plt.scatter(x = dataset[\"x\"],y = dataset[\"y\"])\n",
    "plt.plot(dataset[\"x\"],dataset[\"p_estimated\"], color = 'green')\n",
    "\n",
    "plt.legend(labels = [\"Data points\",\"Estimated Predicted Model\"])\n",
    "plt.show()\n"
   ]
  },
  {
   "attachments": {},
   "cell_type": "markdown",
   "metadata": {},
   "source": [
    "<font size = \"5\">\n",
    "\n",
    "Try it yourself!\n",
    "- How good is the estimated fit?\n",
    "- Create two overlapping lineplots\n",
    "- $(p \\text{ }$ vs $\\text{ } x)$ and $(p_{estimated} \\text{ }$ vs $\\text{ } x)$\n",
    "- Create a legend to label each plot"
   ]
  },
  {
   "cell_type": "code",
<<<<<<< HEAD
   "execution_count": 20,
=======
   "execution_count": 53,
>>>>>>> upstream/main
   "metadata": {},
   "outputs": [
    {
     "data": {
      "text/plain": [
<<<<<<< HEAD
       "<matplotlib.legend.Legend at 0x13e3f2f90>"
      ]
     },
     "execution_count": 20,
=======
       "<matplotlib.legend.Legend at 0x2576ff597d0>"
      ]
     },
     "execution_count": 53,
>>>>>>> upstream/main
     "metadata": {},
     "output_type": "execute_result"
    },
    {
     "data": {
<<<<<<< HEAD
      "image/png": "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",
=======
      "image/png": "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",
>>>>>>> upstream/main
      "text/plain": [
       "<Figure size 640x480 with 1 Axes>"
      ]
     },
     "metadata": {},
     "output_type": "display_data"
    }
   ],
   "source": [
    "# Write your own code\n",
<<<<<<< HEAD
    "plt.plot(dataset[\"x\"], dataset[\"p\"], color = \"blue\")\n",
    "plt.plot(dataset[\"x\"], dataset[\"p_estimated\"], \"-o\", color = \"green\")\n",
    "\n",
    "plt.legend(labels = [\"Predicted Model\", \"Estimated Predicted Model\"])"
=======
    "\n",
    "plt.plot(dataset[\"x\"], dataset[\"p\"], '-o', color = 'blue')\n",
    "plt.plot(dataset[\"x\"], dataset[\"p_estimated\"], '-o', color = 'green')\n",
    "\n",
    "plt.legend(labels = [\"Real Model\", \"Estimated Predicted Model\"])"
>>>>>>> upstream/main
   ]
  },
  {
   "attachments": {},
   "cell_type": "markdown",
   "metadata": {},
   "source": [
    "<font size = \"5\">\n",
    "\n",
    "Try it youself\n",
    "\n",
    "- Compute a column with the formula\n",
    "\n",
    "$\\quad$ ``` sample_error = y - p_estimated```\n",
    "\n",
    "- Create a lambda function <br>\n",
    "\n",
    "$\\quad$ ``` fn_positive_error = lambda error: error >= 0  ```\n",
    "\n",
    "- Compute a column for whether the error is positive <br>\n",
    "using ``` .apply()```\n",
    "\n"
   ]
  },
  {
   "cell_type": "code",
   "execution_count": 36,
   "metadata": {},
   "outputs": [],
   "source": [
    "# Write your own code\n"
   ]
  },
  {
   "attachments": {},
   "cell_type": "markdown",
   "metadata": {},
   "source": [
    "<font size = \"5\">\n",
    "\n",
    "Try it yourself\n",
    "\n",
    "- Compute a new column <br>\n",
    "\n",
    "```error_sqr = sample_error ** 2```\n",
    "\n",
    "- Calculate the mean of ```error_sqr```"
   ]
  },
  {
   "cell_type": "code",
   "execution_count": 37,
   "metadata": {},
   "outputs": [],
   "source": [
    "# Write your own code\n"
   ]
  }
 ],
 "metadata": {
  "kernelspec": {
   "display_name": "base",
   "language": "python",
   "name": "python3"
  },
  "language_info": {
   "codemirror_mode": {
    "name": "ipython",
    "version": 3
   },
   "file_extension": ".py",
   "mimetype": "text/x-python",
   "name": "python",
   "nbconvert_exporter": "python",
   "pygments_lexer": "ipython3",
   "version": "3.11.4"
  },
  "orig_nbformat": 4,
  "vscode": {
   "interpreter": {
    "hash": "45fc1f684f6f416f40889115beff3ddf69879b64cf4bfee48cb72a61e9d15d1a"
   }
  }
 },
 "nbformat": 4,
 "nbformat_minor": 2
}
