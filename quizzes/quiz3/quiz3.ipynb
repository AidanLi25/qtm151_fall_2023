{
 "cells": [
  {
   "attachments": {},
   "cell_type": "markdown",
   "metadata": {},
   "source": [
    "# <span style=\"color:darkblue\"> QTM 151 - Quiz 3 </span>"
   ]
  },
  {
   "attachments": {},
   "cell_type": "markdown",
   "metadata": {},
   "source": [
    "## Try to submit as an HTML file"
   ]
  },
  {
   "attachments": {},
   "cell_type": "markdown",
   "metadata": {},
   "source": [
    "<font size=\"5\"> \n",
    "\n",
    "Print your Emory ID as a string below"
   ]
  },
  {
   "cell_type": "code",
   "execution_count": 69,
   "metadata": {},
   "outputs": [
    {
     "name": "stdout",
     "output_type": "stream",
     "text": [
      "2635174\n"
     ]
    }
   ],
   "source": [
    "# Write your answer here\n",
    "print(\"2635174\")"
   ]
  },
  {
   "attachments": {},
   "cell_type": "markdown",
   "metadata": {},
   "source": [
    "<font size = \"5\" >\n",
    "This quiz is open book \n",
    "\n",
    "- You can use the lecture notes and the internet\n",
    "- You will get partial credit for attempting the questions\n",
    "- To get full credit, the code should run as intended\n",
    "- You should <span style=\"color:red\"> NOT </span> communicate with other students\n",
    "\n",
    "Print the following message: <br>\n",
    "\n",
    "\"I will abide by Emory's code of conduct\"\n",
    "\n",
    "\n",
    "**By printing the message, you acknowledge that you will abide by Emory's code of conduct.**"
   ]
  },
  {
   "cell_type": "code",
   "execution_count": 68,
   "metadata": {},
   "outputs": [
    {
     "name": "stdout",
     "output_type": "stream",
     "text": [
      "I will abide by Emory's code of conduct\n"
     ]
    }
   ],
   "source": [
    "# Write your answer here:\n",
    "print(\"I will abide by Emory's code of conduct\")"
   ]
  },
  {
   "attachments": {},
   "cell_type": "markdown",
   "metadata": {},
   "source": [
    "<font size = \"5\">\n",
    "\n",
    "Import the libraries \"numpy\" and \"pandas\""
   ]
  },
  {
   "cell_type": "code",
   "execution_count": 67,
   "metadata": {},
   "outputs": [],
   "source": [
    "# Write your answer here\n",
    "import numpy as np \n",
    "import pandas as pd "
   ]
  },
  {
   "attachments": {},
   "cell_type": "markdown",
   "metadata": {},
   "source": [
    "\n",
    "<font size = \"5\">\n",
    "\n",
    "(a) Replace the values of a column\n",
    "\n",
    "<font size = \"3\">\n",
    "\n",
    "- Import the \"data_raw/sprint_results.csv\" file\n",
    "- Print the list with the unique values that are not numeric in the column \"positionText\"\n",
    "- Replace the non-numerica values (\"R\" and \"N\") with ```np.nan``` (missing value) in the column \"positionText\"\n",
    "- Create a new column \"positionNumeric\" that converts the modified \"positionText\" column from string to numeric using ```pd.to_numeric()```\n",
    "\n",
    "HINT: See the example in Lecture 12"
   ]
  },
  {
   "cell_type": "code",
   "execution_count": 66,
   "metadata": {},
   "outputs": [
    {
     "name": "stdout",
     "output_type": "stream",
     "text": [
      "['R' 'N']\n"
     ]
    }
   ],
   "source": [
    "# Write your own code\n",
    "data = pd.read_csv(\"data_raw/sprint_results.csv\")\n",
    "nonnumericvalues = data[\"positionText\"][~data['positionText'].str.isnumeric()].unique()\n",
    "print(nonnumericvalues)\n",
    "\n",
    "data[\"positionText\"].replace({\"R\": np.nan, \"N\": np.nan}, inplace = True)\n",
    "data[\"positionNumeric\"] = pd.to_numeric(data[\"positionText\"])"
   ]
  },
  {
   "attachments": {},
   "cell_type": "markdown",
   "metadata": {},
   "source": [
    "<font size = \"5\">\n",
    "\n",
    "(b) Recode a numeric colum\n",
    "\n",
    "<font size = \"3\">\n",
    "\n",
    "- Import the \"data_raw/races.csv\" file\n",
    "- Recode the \"year\" column into a new column \"year_brackets\" with the following categories\n",
    "\n",
    "$\\qquad$ ``` [\"1950-1974\",\"1975-1999\",\"2000-onwards\"] ```\n",
    "\n",
    "- Display the new \"year_brackets\" variable\n",
    "\n",
    "$\\qquad$ HINT: Use the \"pd.cut()\" command. See Lecture 12 (check the note in the example!)"
   ]
  },
  {
   "cell_type": "code",
   "execution_count": 65,
   "metadata": {},
   "outputs": [
    {
     "name": "stdout",
     "output_type": "stream",
     "text": [
      "0       2000-onwards\n",
      "1       2000-onwards\n",
      "2       2000-onwards\n",
      "3       2000-onwards\n",
      "4       2000-onwards\n",
      "            ...     \n",
      "1097    2000-onwards\n",
      "1098    2000-onwards\n",
      "1099    2000-onwards\n",
      "1100    2000-onwards\n",
      "1101    2000-onwards\n",
      "Name: year_brackets, Length: 1102, dtype: category\n",
      "Categories (3, object): ['1950-1974' < '1975-1999' < '2000-onwards']\n"
     ]
    }
   ],
   "source": [
    "# Write your own code\n",
    "data = pd.read_csv(\"data_raw/races.csv\")\n",
    "bins = [1950, 1975, 2000, data[\"year\"].max()]\n",
    "labels = [\"1950-1974\", \"1975-1999\", \"2000-onwards\"] \n",
    "\n",
    "data[\"year_brackets\"] = pd.cut(data[\"year\"], bins=bins, labels=labels)\n",
    "print(data[\"year_brackets\"])\n"
   ]
  },
  {
   "attachments": {},
   "cell_type": "markdown",
   "metadata": {},
   "source": [
    "<font size = \"5\">\n",
    "\n",
    "(c) Aggregate and query\n",
    "\n",
    "<font size = \"3\">\n",
    "\n",
    "- Import the \"data_raw/sprint_results.csv\" file\n",
    "- Subset the observations for 'constructorId == 3' using ```.query()```\n",
    "- Obtain the sum of \"laps\" by \"driverId\" using ``` .groupby().agg() ```\n",
    "- Subset the drivers with a sum of laps $\\ge 40$\n",
    "- Store the results of all these operations in a dataframe ```sprint_results_agg ```\n",
    "- Display the ```sprint_results_agg``` dataframe\n",
    "- Provide a one-sentence explanation of the information in the ```sprint_results_agg ``` table"
   ]
  },
  {
   "cell_type": "code",
   "execution_count": 64,
   "metadata": {},
   "outputs": [
    {
     "name": "stdout",
     "output_type": "stream",
     "text": [
      "   DriverID  TotalLaps\n",
      "0       847         59\n",
      "1       848         56\n",
      "2       849        127\n",
      "The table shows the total amount of laps for each driver who had a sum of laps greater than or equal to 40\n"
     ]
    }
   ],
   "source": [
    "# Write your own code\n",
    "sprint_results = pd.read_csv(\"data_raw/sprint_results.csv\")\n",
    "subset = sprint_results.query(\"constructorId == 3\")\n",
    "laps_sum = subset.groupby(\"driverId\")[\"laps\"].agg(\"sum\")\n",
    "\n",
    "drivers_greater40 = laps_sum[laps_sum >= 40]\n",
    "sprint_results_agg = pd.DataFrame({\"DriverID\": drivers_greater40.index, \"TotalLaps\": drivers_greater40.values})\n",
    "print(sprint_results_agg)\n",
    "print(\"The table shows the total amount of laps for each driver who had a sum of laps greater than or equal to 40\")"
   ]
  },
  {
   "attachments": {},
   "cell_type": "markdown",
   "metadata": {},
   "source": [
    "<font size = \"5\">\n",
    "\n",
    "(d) Aggregate and sort\n",
    "\n",
    "<font size = \"3\">\n",
    "\n",
    "- Import the \"data_raw/sprint_results.csv\" file\n",
    "- Obtain the sum of \"laps\" by \"driverId\" using ``` .groupby().agg() ```\n",
    "- Sort the teams in descending order using of the sum of laps using ``` .sort_values() ```\n",
    "- Display your results"
   ]
  },
  {
   "cell_type": "code",
   "execution_count": 63,
   "metadata": {},
   "outputs": [
    {
     "name": "stdout",
     "output_type": "stream",
     "text": [
      "driverId\n",
      "1      127\n",
      "832    127\n",
      "854    127\n",
      "852    127\n",
      "849    127\n",
      "847    127\n",
      "846    127\n",
      "844    127\n",
      "839    127\n",
      "840    127\n",
      "830    127\n",
      "822    127\n",
      "817    127\n",
      "815    126\n",
      "20     125\n",
      "842    109\n",
      "4      104\n",
      "825     68\n",
      "841     59\n",
      "853     59\n",
      "848     56\n",
      "855     47\n",
      "8       41\n",
      "9       18\n",
      "Name: laps, dtype: int64\n"
     ]
    }
   ],
   "source": [
    "# Write your own code\n",
    "sprint_results = pd.read_csv(\"data_raw/sprint_results.csv\")\n",
    "laps_sum = sprint_results.groupby(\"driverId\")[\"laps\"].agg(\"sum\")\n",
    "sorted_laps_sum = laps_sum.sort_values(ascending = False)\n",
    "print(sorted_laps_sum)"
   ]
  },
  {
   "attachments": {},
   "cell_type": "markdown",
   "metadata": {},
   "source": [
    "<font size = \"5\">\n",
    "\n",
    "(e) Rename column\n",
    "\n",
    "<font size = \"3\">\n",
    "\n",
    "- Import the \"data_raw/sprint_results.csv\" file\n",
    "- Rename the column \"points\" to \"points_sprint\"\n",
    "- Display the dataframe columns\n",
    "\n",
    "HINT: Create a dictionary and use ```.rename(columns = ...)``` See Lecture 14"
   ]
  },
  {
   "cell_type": "code",
   "execution_count": 1,
   "metadata": {},
   "outputs": [
    {
     "ename": "NameError",
     "evalue": "name 'pd' is not defined",
     "output_type": "error",
     "traceback": [
      "\u001b[0;31m---------------------------------------------------------------------------\u001b[0m",
      "\u001b[0;31mNameError\u001b[0m                                 Traceback (most recent call last)",
      "\u001b[1;32m/Users/aidanli/Downloads/University/Freshman Courses/QTM151/qtm151_fall_2023/quizzes/quiz3/quiz3.ipynb Cell 18\u001b[0m line \u001b[0;36m2\n\u001b[1;32m      <a href='vscode-notebook-cell:/Users/aidanli/Downloads/University/Freshman%20Courses/QTM151/qtm151_fall_2023/quizzes/quiz3/quiz3.ipynb#X23sZmlsZQ%3D%3D?line=0'>1</a>\u001b[0m \u001b[39m# Write your own code\u001b[39;00m\n\u001b[0;32m----> <a href='vscode-notebook-cell:/Users/aidanli/Downloads/University/Freshman%20Courses/QTM151/qtm151_fall_2023/quizzes/quiz3/quiz3.ipynb#X23sZmlsZQ%3D%3D?line=1'>2</a>\u001b[0m sprint_results \u001b[39m=\u001b[39m pd\u001b[39m.\u001b[39mread_csv(\u001b[39m\"\u001b[39m\u001b[39mdata_raw/sprint_results.csv\u001b[39m\u001b[39m\"\u001b[39m)\n\u001b[1;32m      <a href='vscode-notebook-cell:/Users/aidanli/Downloads/University/Freshman%20Courses/QTM151/qtm151_fall_2023/quizzes/quiz3/quiz3.ipynb#X23sZmlsZQ%3D%3D?line=2'>3</a>\u001b[0m dictionary \u001b[39m=\u001b[39m {\u001b[39m\"\u001b[39m\u001b[39mpoints\u001b[39m\u001b[39m\"\u001b[39m: \u001b[39m\"\u001b[39m\u001b[39mpoints_sprint\u001b[39m\u001b[39m\"\u001b[39m}\n\u001b[1;32m      <a href='vscode-notebook-cell:/Users/aidanli/Downloads/University/Freshman%20Courses/QTM151/qtm151_fall_2023/quizzes/quiz3/quiz3.ipynb#X23sZmlsZQ%3D%3D?line=3'>4</a>\u001b[0m sprint_results_renamed \u001b[39m=\u001b[39m sprint_results\u001b[39m.\u001b[39mrename(columns \u001b[39m=\u001b[39m dictionary)\n",
      "\u001b[0;31mNameError\u001b[0m: name 'pd' is not defined"
     ]
    }
   ],
   "source": [
    "# Write your own code\n",
    "sprint_results = pd.read_csv(\"data_raw/sprint_results.csv\")\n",
    "dictionary = {\"points\": \"points_sprint\"}\n",
    "sprint_results_renamed = sprint_results.rename(columns = dictionary)\n",
    "print(sprint_results_renamed.columns)"
   ]
  },
  {
   "attachments": {},
   "cell_type": "markdown",
   "metadata": {},
   "source": [
    "<font size = \"5\">\n",
    "\n",
    "(f) Merge dataset\n",
    "\n",
    "<font size = \"3\">\n",
    "\n",
    "- Import the \"data_raw/sprint_results.csv\" and \"data_raw/constructors.csv\" files\n",
    "- Create a new dataset with  ```pd.merge()``` using \"sprint_results\" as the primary dataset (left), and \"constructors\" as the secondary dataset (right), merging on the column \"constructorId\"\n",
    "- To get full points **ONLY** merge the \"url\" column from the secondary dataset (not all the columns)\n",
    "- Display the resulting dataframe \n",
    "\n",
    "\n",
    "HINT: Use ```[[...]]``` to extract a subset of columns from the secondary dataset before merging, including the \"constructorId\" column"
   ]
  },
  {
   "cell_type": "code",
   "execution_count": 62,
   "metadata": {},
   "outputs": [
    {
     "name": "stdout",
     "output_type": "stream",
     "text": [
      "     resultId  raceId  driverId  constructorId  number  grid position  \\\n",
      "0           1    1061       830              9      33     2        1   \n",
      "1          20    1061       815              9      11     5       \\N   \n",
      "2          22    1065       830              9      33     3        2   \n",
      "3          29    1065       815              9      11     9        9   \n",
      "4          42    1071       830              9      33     1        2   \n",
      "..        ...     ...       ...            ...     ...   ...      ...   \n",
      "115        70    1077       854            210      47    12       10   \n",
      "116        87    1084       825            210      20     6        7   \n",
      "117        89    1084       854            210      47     7        9   \n",
      "118       108    1095       825            210      20     1        8   \n",
      "119       112    1095       854            210      47    20       12   \n",
      "\n",
      "    positionText  positionOrder  points  laps       time milliseconds  \\\n",
      "0              1              1       3    17  25:38.426      1538426   \n",
      "1              R             20       0    16         \\N           \\N   \n",
      "2              2              2       2    18     +2.325      1676403   \n",
      "3              9              9       0    18    +31.680      1705758   \n",
      "4              2              2       2    24     +1.170      1750729   \n",
      "..           ...            ...     ...   ...        ...          ...   \n",
      "115           10             10       0    21    +33.773      1873340   \n",
      "116            7              7       2    23    +34.539      1624598   \n",
      "117            9              9       0    23    +37.163      1627222   \n",
      "118            8              8       1    24    +28.768      1840075   \n",
      "119           12             12       0    24    +41.159      1852466   \n",
      "\n",
      "    fastestLap fastestLapTime  statusId  \\\n",
      "0           14       1:30.013         1   \n",
      "1            6       1:31.465        76   \n",
      "2            9       1:23.502         1   \n",
      "3           12       1:24.211         1   \n",
      "4            9       1:12.114         1   \n",
      "..         ...            ...       ...   \n",
      "115         15       1:20.567         1   \n",
      "116          4       1:09.232         1   \n",
      "117          4       1:09.457         1   \n",
      "118          2       1:15.110         1   \n",
      "119          5       1:15.771         1   \n",
      "\n",
      "                                              url  \n",
      "0    http://en.wikipedia.org/wiki/Red_Bull_Racing  \n",
      "1    http://en.wikipedia.org/wiki/Red_Bull_Racing  \n",
      "2    http://en.wikipedia.org/wiki/Red_Bull_Racing  \n",
      "3    http://en.wikipedia.org/wiki/Red_Bull_Racing  \n",
      "4    http://en.wikipedia.org/wiki/Red_Bull_Racing  \n",
      "..                                            ...  \n",
      "115     http://en.wikipedia.org/wiki/Haas_F1_Team  \n",
      "116     http://en.wikipedia.org/wiki/Haas_F1_Team  \n",
      "117     http://en.wikipedia.org/wiki/Haas_F1_Team  \n",
      "118     http://en.wikipedia.org/wiki/Haas_F1_Team  \n",
      "119     http://en.wikipedia.org/wiki/Haas_F1_Team  \n",
      "\n",
      "[120 rows x 17 columns]\n"
     ]
    }
   ],
   "source": [
    "# Write your own code\n",
    "sprint_results = pd.read_csv(\"data_raw/sprint_results.csv\")\n",
    "constructors = pd.read_csv(\"data_raw/constructors.csv\")\n",
    "\n",
    "subset = constructors[[\"constructorId\", 'url']]\n",
    "\n",
    "dataset_merged = pd.merge(sprint_results, subset, on = \"constructorId\")\n",
    "\n",
    "print(dataset_merged)"
   ]
  }
 ],
 "metadata": {
  "kernelspec": {
   "display_name": "base",
   "language": "python",
   "name": "python3"
  },
  "language_info": {
   "codemirror_mode": {
    "name": "ipython",
    "version": 3
   },
   "file_extension": ".py",
   "mimetype": "text/x-python",
   "name": "python",
   "nbconvert_exporter": "python",
   "pygments_lexer": "ipython3",
   "version": "3.11.4"
  },
  "orig_nbformat": 4,
  "vscode": {
   "interpreter": {
    "hash": "45fc1f684f6f416f40889115beff3ddf69879b64cf4bfee48cb72a61e9d15d1a"
   }
  }
 },
 "nbformat": 4,
 "nbformat_minor": 2
}
